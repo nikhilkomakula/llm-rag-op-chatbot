{
  "cells": [
    {
      "cell_type": "markdown",
      "metadata": {
        "id": "xshvpIdPINSY"
      },
      "source": [
        "# OpenPages QuikBot"
      ]
    },
    {
      "cell_type": "markdown",
      "metadata": {
        "id": "fETI4BxxIOjW"
      },
      "source": [
        "## Helper Functions"
      ]
    },
    {
      "cell_type": "code",
      "execution_count": 2,
      "metadata": {
        "id": "zuVNHZjJEzVk"
      },
      "outputs": [],
      "source": [
        "import textwrap\n",
        "from IPython.display import display, HTML, Markdown\n",
        "\n",
        "# displays new lines with line breaks\n",
        "def print_df(df):\n",
        "\n",
        "  display(df.style.set_properties(**{\n",
        "      'text-align': 'left',\n",
        "      'white-space': 'pre-wrap',\n",
        "  }))\n",
        "\n",
        "  HTML(df.to_html().replace(\"\\\\n\",\"\\<br\\>\"))"
      ]
    },
    {
      "cell_type": "code",
      "execution_count": 3,
      "metadata": {
        "id": "fvHr8nIMIXRt",
        "colab": {
          "base_uri": "https://localhost:8080/"
        },
        "outputId": "b04614e3-1e33-4596-ff77-f3808f5c1b94"
      },
      "outputs": [
        {
          "output_type": "stream",
          "name": "stdout",
          "text": [
            "Mounted at /content/drive\n"
          ]
        }
      ],
      "source": [
        "# mount google drive\n",
        "from google.colab import drive\n",
        "drive.mount('/content/drive', force_remount=True)"
      ]
    },
    {
      "cell_type": "code",
      "execution_count": 4,
      "metadata": {
        "id": "0TkXUe4tIb8h"
      },
      "outputs": [],
      "source": [
        "# access colab secrets\n",
        "import os\n",
        "from google.colab import userdata\n",
        "\n",
        "# load environment variables\n",
        "os.environ['HF_TOKEN'] = userdata.get('HF_TOKEN')\n",
        "os.environ['HUGGINGFACEHUB_API_TOKEN'] = userdata.get('HUGGINGFACEHUB_API_TOKEN')"
      ]
    },
    {
      "cell_type": "code",
      "execution_count": 5,
      "metadata": {
        "id": "M8w9KecKjXGd"
      },
      "outputs": [],
      "source": [
        "def format_docs(docs):\n",
        "    return \"\\n\\n\".join(doc.page_content for doc in docs)"
      ]
    },
    {
      "cell_type": "markdown",
      "metadata": {
        "id": "791KgRx9jYSw"
      },
      "source": [
        "## Install Libraries"
      ]
    },
    {
      "cell_type": "code",
      "execution_count": 6,
      "metadata": {
        "id": "jdMh3e78IibO",
        "colab": {
          "base_uri": "https://localhost:8080/"
        },
        "outputId": "3e9e8005-fc33-46ef-c182-a9dc8fde3fa9"
      },
      "outputs": [
        {
          "output_type": "stream",
          "name": "stdout",
          "text": [
            "Requirement already satisfied: chromadb in /usr/local/lib/python3.10/dist-packages (0.4.24)\n",
            "Requirement already satisfied: build>=1.0.3 in /usr/local/lib/python3.10/dist-packages (from chromadb) (1.1.1)\n",
            "Requirement already satisfied: requests>=2.28 in /usr/local/lib/python3.10/dist-packages (from chromadb) (2.31.0)\n",
            "Requirement already satisfied: pydantic>=1.9 in /usr/local/lib/python3.10/dist-packages (from chromadb) (2.6.3)\n",
            "Requirement already satisfied: chroma-hnswlib==0.7.3 in /usr/local/lib/python3.10/dist-packages (from chromadb) (0.7.3)\n",
            "Requirement already satisfied: fastapi>=0.95.2 in /usr/local/lib/python3.10/dist-packages (from chromadb) (0.110.0)\n",
            "Requirement already satisfied: uvicorn[standard]>=0.18.3 in /usr/local/lib/python3.10/dist-packages (from chromadb) (0.28.0)\n",
            "Requirement already satisfied: numpy>=1.22.5 in /usr/local/lib/python3.10/dist-packages (from chromadb) (1.25.2)\n",
            "Requirement already satisfied: posthog>=2.4.0 in /usr/local/lib/python3.10/dist-packages (from chromadb) (3.5.0)\n",
            "Requirement already satisfied: typing-extensions>=4.5.0 in /usr/local/lib/python3.10/dist-packages (from chromadb) (4.10.0)\n",
            "Requirement already satisfied: pulsar-client>=3.1.0 in /usr/local/lib/python3.10/dist-packages (from chromadb) (3.4.0)\n",
            "Requirement already satisfied: onnxruntime>=1.14.1 in /usr/local/lib/python3.10/dist-packages (from chromadb) (1.17.1)\n",
            "Requirement already satisfied: opentelemetry-api>=1.2.0 in /usr/local/lib/python3.10/dist-packages (from chromadb) (1.23.0)\n",
            "Requirement already satisfied: opentelemetry-exporter-otlp-proto-grpc>=1.2.0 in /usr/local/lib/python3.10/dist-packages (from chromadb) (1.23.0)\n",
            "Requirement already satisfied: opentelemetry-instrumentation-fastapi>=0.41b0 in /usr/local/lib/python3.10/dist-packages (from chromadb) (0.44b0)\n",
            "Requirement already satisfied: opentelemetry-sdk>=1.2.0 in /usr/local/lib/python3.10/dist-packages (from chromadb) (1.23.0)\n",
            "Requirement already satisfied: tokenizers>=0.13.2 in /usr/local/lib/python3.10/dist-packages (from chromadb) (0.15.2)\n",
            "Requirement already satisfied: pypika>=0.48.9 in /usr/local/lib/python3.10/dist-packages (from chromadb) (0.48.9)\n",
            "Requirement already satisfied: tqdm>=4.65.0 in /usr/local/lib/python3.10/dist-packages (from chromadb) (4.66.2)\n",
            "Requirement already satisfied: overrides>=7.3.1 in /usr/local/lib/python3.10/dist-packages (from chromadb) (7.7.0)\n",
            "Requirement already satisfied: importlib-resources in /usr/local/lib/python3.10/dist-packages (from chromadb) (6.1.2)\n",
            "Requirement already satisfied: grpcio>=1.58.0 in /usr/local/lib/python3.10/dist-packages (from chromadb) (1.62.0)\n",
            "Requirement already satisfied: bcrypt>=4.0.1 in /usr/local/lib/python3.10/dist-packages (from chromadb) (4.1.2)\n",
            "Requirement already satisfied: typer>=0.9.0 in /usr/local/lib/python3.10/dist-packages (from chromadb) (0.9.0)\n",
            "Requirement already satisfied: kubernetes>=28.1.0 in /usr/local/lib/python3.10/dist-packages (from chromadb) (29.0.0)\n",
            "Requirement already satisfied: tenacity>=8.2.3 in /usr/local/lib/python3.10/dist-packages (from chromadb) (8.2.3)\n",
            "Requirement already satisfied: PyYAML>=6.0.0 in /usr/local/lib/python3.10/dist-packages (from chromadb) (6.0.1)\n",
            "Requirement already satisfied: mmh3>=4.0.1 in /usr/local/lib/python3.10/dist-packages (from chromadb) (4.1.0)\n",
            "Requirement already satisfied: orjson>=3.9.12 in /usr/local/lib/python3.10/dist-packages (from chromadb) (3.9.15)\n",
            "Requirement already satisfied: packaging>=19.0 in /usr/local/lib/python3.10/dist-packages (from build>=1.0.3->chromadb) (23.2)\n",
            "Requirement already satisfied: pyproject_hooks in /usr/local/lib/python3.10/dist-packages (from build>=1.0.3->chromadb) (1.0.0)\n",
            "Requirement already satisfied: tomli>=1.1.0 in /usr/local/lib/python3.10/dist-packages (from build>=1.0.3->chromadb) (2.0.1)\n",
            "Requirement already satisfied: starlette<0.37.0,>=0.36.3 in /usr/local/lib/python3.10/dist-packages (from fastapi>=0.95.2->chromadb) (0.36.3)\n",
            "Requirement already satisfied: certifi>=14.05.14 in /usr/local/lib/python3.10/dist-packages (from kubernetes>=28.1.0->chromadb) (2024.2.2)\n",
            "Requirement already satisfied: six>=1.9.0 in /usr/local/lib/python3.10/dist-packages (from kubernetes>=28.1.0->chromadb) (1.16.0)\n",
            "Requirement already satisfied: python-dateutil>=2.5.3 in /usr/local/lib/python3.10/dist-packages (from kubernetes>=28.1.0->chromadb) (2.8.2)\n",
            "Requirement already satisfied: google-auth>=1.0.1 in /usr/local/lib/python3.10/dist-packages (from kubernetes>=28.1.0->chromadb) (2.27.0)\n",
            "Requirement already satisfied: websocket-client!=0.40.0,!=0.41.*,!=0.42.*,>=0.32.0 in /usr/local/lib/python3.10/dist-packages (from kubernetes>=28.1.0->chromadb) (1.7.0)\n",
            "Requirement already satisfied: requests-oauthlib in /usr/local/lib/python3.10/dist-packages (from kubernetes>=28.1.0->chromadb) (1.3.1)\n",
            "Requirement already satisfied: oauthlib>=3.2.2 in /usr/local/lib/python3.10/dist-packages (from kubernetes>=28.1.0->chromadb) (3.2.2)\n",
            "Requirement already satisfied: urllib3>=1.24.2 in /usr/local/lib/python3.10/dist-packages (from kubernetes>=28.1.0->chromadb) (2.0.7)\n",
            "Requirement already satisfied: coloredlogs in /usr/local/lib/python3.10/dist-packages (from onnxruntime>=1.14.1->chromadb) (15.0.1)\n",
            "Requirement already satisfied: flatbuffers in /usr/local/lib/python3.10/dist-packages (from onnxruntime>=1.14.1->chromadb) (23.5.26)\n",
            "Requirement already satisfied: protobuf in /usr/local/lib/python3.10/dist-packages (from onnxruntime>=1.14.1->chromadb) (3.20.3)\n",
            "Requirement already satisfied: sympy in /usr/local/lib/python3.10/dist-packages (from onnxruntime>=1.14.1->chromadb) (1.12)\n",
            "Requirement already satisfied: deprecated>=1.2.6 in /usr/local/lib/python3.10/dist-packages (from opentelemetry-api>=1.2.0->chromadb) (1.2.14)\n",
            "Requirement already satisfied: importlib-metadata<7.0,>=6.0 in /usr/local/lib/python3.10/dist-packages (from opentelemetry-api>=1.2.0->chromadb) (6.11.0)\n",
            "Requirement already satisfied: googleapis-common-protos~=1.52 in /usr/local/lib/python3.10/dist-packages (from opentelemetry-exporter-otlp-proto-grpc>=1.2.0->chromadb) (1.62.0)\n",
            "Requirement already satisfied: opentelemetry-exporter-otlp-proto-common==1.23.0 in /usr/local/lib/python3.10/dist-packages (from opentelemetry-exporter-otlp-proto-grpc>=1.2.0->chromadb) (1.23.0)\n",
            "Requirement already satisfied: opentelemetry-proto==1.23.0 in /usr/local/lib/python3.10/dist-packages (from opentelemetry-exporter-otlp-proto-grpc>=1.2.0->chromadb) (1.23.0)\n",
            "Requirement already satisfied: opentelemetry-instrumentation-asgi==0.44b0 in /usr/local/lib/python3.10/dist-packages (from opentelemetry-instrumentation-fastapi>=0.41b0->chromadb) (0.44b0)\n",
            "Requirement already satisfied: opentelemetry-instrumentation==0.44b0 in /usr/local/lib/python3.10/dist-packages (from opentelemetry-instrumentation-fastapi>=0.41b0->chromadb) (0.44b0)\n",
            "Requirement already satisfied: opentelemetry-semantic-conventions==0.44b0 in /usr/local/lib/python3.10/dist-packages (from opentelemetry-instrumentation-fastapi>=0.41b0->chromadb) (0.44b0)\n",
            "Requirement already satisfied: opentelemetry-util-http==0.44b0 in /usr/local/lib/python3.10/dist-packages (from opentelemetry-instrumentation-fastapi>=0.41b0->chromadb) (0.44b0)\n",
            "Requirement already satisfied: setuptools>=16.0 in /usr/local/lib/python3.10/dist-packages (from opentelemetry-instrumentation==0.44b0->opentelemetry-instrumentation-fastapi>=0.41b0->chromadb) (67.7.2)\n",
            "Requirement already satisfied: wrapt<2.0.0,>=1.0.0 in /usr/local/lib/python3.10/dist-packages (from opentelemetry-instrumentation==0.44b0->opentelemetry-instrumentation-fastapi>=0.41b0->chromadb) (1.14.1)\n",
            "Requirement already satisfied: asgiref~=3.0 in /usr/local/lib/python3.10/dist-packages (from opentelemetry-instrumentation-asgi==0.44b0->opentelemetry-instrumentation-fastapi>=0.41b0->chromadb) (3.7.2)\n",
            "Requirement already satisfied: monotonic>=1.5 in /usr/local/lib/python3.10/dist-packages (from posthog>=2.4.0->chromadb) (1.6)\n",
            "Requirement already satisfied: backoff>=1.10.0 in /usr/local/lib/python3.10/dist-packages (from posthog>=2.4.0->chromadb) (2.2.1)\n",
            "Requirement already satisfied: annotated-types>=0.4.0 in /usr/local/lib/python3.10/dist-packages (from pydantic>=1.9->chromadb) (0.6.0)\n",
            "Requirement already satisfied: pydantic-core==2.16.3 in /usr/local/lib/python3.10/dist-packages (from pydantic>=1.9->chromadb) (2.16.3)\n",
            "Requirement already satisfied: charset-normalizer<4,>=2 in /usr/local/lib/python3.10/dist-packages (from requests>=2.28->chromadb) (3.3.2)\n",
            "Requirement already satisfied: idna<4,>=2.5 in /usr/local/lib/python3.10/dist-packages (from requests>=2.28->chromadb) (3.6)\n",
            "Requirement already satisfied: huggingface_hub<1.0,>=0.16.4 in /usr/local/lib/python3.10/dist-packages (from tokenizers>=0.13.2->chromadb) (0.20.3)\n",
            "Requirement already satisfied: click<9.0.0,>=7.1.1 in /usr/local/lib/python3.10/dist-packages (from typer>=0.9.0->chromadb) (8.1.7)\n",
            "Requirement already satisfied: h11>=0.8 in /usr/local/lib/python3.10/dist-packages (from uvicorn[standard]>=0.18.3->chromadb) (0.14.0)\n",
            "Requirement already satisfied: httptools>=0.5.0 in /usr/local/lib/python3.10/dist-packages (from uvicorn[standard]>=0.18.3->chromadb) (0.6.1)\n",
            "Requirement already satisfied: python-dotenv>=0.13 in /usr/local/lib/python3.10/dist-packages (from uvicorn[standard]>=0.18.3->chromadb) (1.0.1)\n",
            "Requirement already satisfied: uvloop!=0.15.0,!=0.15.1,>=0.14.0 in /usr/local/lib/python3.10/dist-packages (from uvicorn[standard]>=0.18.3->chromadb) (0.19.0)\n",
            "Requirement already satisfied: watchfiles>=0.13 in /usr/local/lib/python3.10/dist-packages (from uvicorn[standard]>=0.18.3->chromadb) (0.21.0)\n",
            "Requirement already satisfied: websockets>=10.4 in /usr/local/lib/python3.10/dist-packages (from uvicorn[standard]>=0.18.3->chromadb) (12.0)\n",
            "Requirement already satisfied: cachetools<6.0,>=2.0.0 in /usr/local/lib/python3.10/dist-packages (from google-auth>=1.0.1->kubernetes>=28.1.0->chromadb) (5.3.3)\n",
            "Requirement already satisfied: pyasn1-modules>=0.2.1 in /usr/local/lib/python3.10/dist-packages (from google-auth>=1.0.1->kubernetes>=28.1.0->chromadb) (0.3.0)\n",
            "Requirement already satisfied: rsa<5,>=3.1.4 in /usr/local/lib/python3.10/dist-packages (from google-auth>=1.0.1->kubernetes>=28.1.0->chromadb) (4.9)\n",
            "Requirement already satisfied: filelock in /usr/local/lib/python3.10/dist-packages (from huggingface_hub<1.0,>=0.16.4->tokenizers>=0.13.2->chromadb) (3.13.1)\n",
            "Requirement already satisfied: fsspec>=2023.5.0 in /usr/local/lib/python3.10/dist-packages (from huggingface_hub<1.0,>=0.16.4->tokenizers>=0.13.2->chromadb) (2023.6.0)\n",
            "Requirement already satisfied: zipp>=0.5 in /usr/local/lib/python3.10/dist-packages (from importlib-metadata<7.0,>=6.0->opentelemetry-api>=1.2.0->chromadb) (3.17.0)\n",
            "Requirement already satisfied: anyio<5,>=3.4.0 in /usr/local/lib/python3.10/dist-packages (from starlette<0.37.0,>=0.36.3->fastapi>=0.95.2->chromadb) (3.7.1)\n",
            "Requirement already satisfied: humanfriendly>=9.1 in /usr/local/lib/python3.10/dist-packages (from coloredlogs->onnxruntime>=1.14.1->chromadb) (10.0)\n",
            "Requirement already satisfied: mpmath>=0.19 in /usr/local/lib/python3.10/dist-packages (from sympy->onnxruntime>=1.14.1->chromadb) (1.3.0)\n",
            "Requirement already satisfied: sniffio>=1.1 in /usr/local/lib/python3.10/dist-packages (from anyio<5,>=3.4.0->starlette<0.37.0,>=0.36.3->fastapi>=0.95.2->chromadb) (1.3.1)\n",
            "Requirement already satisfied: exceptiongroup in /usr/local/lib/python3.10/dist-packages (from anyio<5,>=3.4.0->starlette<0.37.0,>=0.36.3->fastapi>=0.95.2->chromadb) (1.2.0)\n",
            "Requirement already satisfied: pyasn1<0.6.0,>=0.4.6 in /usr/local/lib/python3.10/dist-packages (from pyasn1-modules>=0.2.1->google-auth>=1.0.1->kubernetes>=28.1.0->chromadb) (0.5.1)\n",
            "Requirement already satisfied: langchain in /usr/local/lib/python3.10/dist-packages (0.1.11)\n",
            "Requirement already satisfied: PyYAML>=5.3 in /usr/local/lib/python3.10/dist-packages (from langchain) (6.0.1)\n",
            "Requirement already satisfied: SQLAlchemy<3,>=1.4 in /usr/local/lib/python3.10/dist-packages (from langchain) (2.0.28)\n",
            "Requirement already satisfied: aiohttp<4.0.0,>=3.8.3 in /usr/local/lib/python3.10/dist-packages (from langchain) (3.9.1)\n",
            "Requirement already satisfied: async-timeout<5.0.0,>=4.0.0 in /usr/local/lib/python3.10/dist-packages (from langchain) (4.0.3)\n",
            "Requirement already satisfied: dataclasses-json<0.7,>=0.5.7 in /usr/local/lib/python3.10/dist-packages (from langchain) (0.6.4)\n",
            "Requirement already satisfied: jsonpatch<2.0,>=1.33 in /usr/local/lib/python3.10/dist-packages (from langchain) (1.33)\n",
            "Requirement already satisfied: langchain-community<0.1,>=0.0.25 in /usr/local/lib/python3.10/dist-packages (from langchain) (0.0.27)\n",
            "Requirement already satisfied: langchain-core<0.2,>=0.1.29 in /usr/local/lib/python3.10/dist-packages (from langchain) (0.1.30)\n",
            "Requirement already satisfied: langchain-text-splitters<0.1,>=0.0.1 in /usr/local/lib/python3.10/dist-packages (from langchain) (0.0.1)\n",
            "Requirement already satisfied: langsmith<0.2.0,>=0.1.17 in /usr/local/lib/python3.10/dist-packages (from langchain) (0.1.23)\n",
            "Requirement already satisfied: numpy<2,>=1 in /usr/local/lib/python3.10/dist-packages (from langchain) (1.25.2)\n",
            "Requirement already satisfied: pydantic<3,>=1 in /usr/local/lib/python3.10/dist-packages (from langchain) (2.6.3)\n",
            "Requirement already satisfied: requests<3,>=2 in /usr/local/lib/python3.10/dist-packages (from langchain) (2.31.0)\n",
            "Requirement already satisfied: tenacity<9.0.0,>=8.1.0 in /usr/local/lib/python3.10/dist-packages (from langchain) (8.2.3)\n",
            "Requirement already satisfied: attrs>=17.3.0 in /usr/local/lib/python3.10/dist-packages (from aiohttp<4.0.0,>=3.8.3->langchain) (23.2.0)\n",
            "Requirement already satisfied: multidict<7.0,>=4.5 in /usr/local/lib/python3.10/dist-packages (from aiohttp<4.0.0,>=3.8.3->langchain) (6.0.5)\n",
            "Requirement already satisfied: yarl<2.0,>=1.0 in /usr/local/lib/python3.10/dist-packages (from aiohttp<4.0.0,>=3.8.3->langchain) (1.9.4)\n",
            "Requirement already satisfied: frozenlist>=1.1.1 in /usr/local/lib/python3.10/dist-packages (from aiohttp<4.0.0,>=3.8.3->langchain) (1.4.1)\n",
            "Requirement already satisfied: aiosignal>=1.1.2 in /usr/local/lib/python3.10/dist-packages (from aiohttp<4.0.0,>=3.8.3->langchain) (1.3.1)\n",
            "Requirement already satisfied: marshmallow<4.0.0,>=3.18.0 in /usr/local/lib/python3.10/dist-packages (from dataclasses-json<0.7,>=0.5.7->langchain) (3.21.1)\n",
            "Requirement already satisfied: typing-inspect<1,>=0.4.0 in /usr/local/lib/python3.10/dist-packages (from dataclasses-json<0.7,>=0.5.7->langchain) (0.9.0)\n",
            "Requirement already satisfied: jsonpointer>=1.9 in /usr/local/lib/python3.10/dist-packages (from jsonpatch<2.0,>=1.33->langchain) (2.4)\n",
            "Requirement already satisfied: anyio<5,>=3 in /usr/local/lib/python3.10/dist-packages (from langchain-core<0.2,>=0.1.29->langchain) (3.7.1)\n",
            "Requirement already satisfied: packaging<24.0,>=23.2 in /usr/local/lib/python3.10/dist-packages (from langchain-core<0.2,>=0.1.29->langchain) (23.2)\n",
            "Requirement already satisfied: orjson<4.0.0,>=3.9.14 in /usr/local/lib/python3.10/dist-packages (from langsmith<0.2.0,>=0.1.17->langchain) (3.9.15)\n",
            "Requirement already satisfied: annotated-types>=0.4.0 in /usr/local/lib/python3.10/dist-packages (from pydantic<3,>=1->langchain) (0.6.0)\n",
            "Requirement already satisfied: pydantic-core==2.16.3 in /usr/local/lib/python3.10/dist-packages (from pydantic<3,>=1->langchain) (2.16.3)\n",
            "Requirement already satisfied: typing-extensions>=4.6.1 in /usr/local/lib/python3.10/dist-packages (from pydantic<3,>=1->langchain) (4.10.0)\n",
            "Requirement already satisfied: charset-normalizer<4,>=2 in /usr/local/lib/python3.10/dist-packages (from requests<3,>=2->langchain) (3.3.2)\n",
            "Requirement already satisfied: idna<4,>=2.5 in /usr/local/lib/python3.10/dist-packages (from requests<3,>=2->langchain) (3.6)\n",
            "Requirement already satisfied: urllib3<3,>=1.21.1 in /usr/local/lib/python3.10/dist-packages (from requests<3,>=2->langchain) (2.0.7)\n",
            "Requirement already satisfied: certifi>=2017.4.17 in /usr/local/lib/python3.10/dist-packages (from requests<3,>=2->langchain) (2024.2.2)\n",
            "Requirement already satisfied: greenlet!=0.4.17 in /usr/local/lib/python3.10/dist-packages (from SQLAlchemy<3,>=1.4->langchain) (3.0.3)\n",
            "Requirement already satisfied: sniffio>=1.1 in /usr/local/lib/python3.10/dist-packages (from anyio<5,>=3->langchain-core<0.2,>=0.1.29->langchain) (1.3.1)\n",
            "Requirement already satisfied: exceptiongroup in /usr/local/lib/python3.10/dist-packages (from anyio<5,>=3->langchain-core<0.2,>=0.1.29->langchain) (1.2.0)\n",
            "Requirement already satisfied: mypy-extensions>=0.3.0 in /usr/local/lib/python3.10/dist-packages (from typing-inspect<1,>=0.4.0->dataclasses-json<0.7,>=0.5.7->langchain) (1.0.0)\n",
            "Requirement already satisfied: pymupdf in /usr/local/lib/python3.10/dist-packages (1.23.26)\n",
            "Requirement already satisfied: PyMuPDFb==1.23.22 in /usr/local/lib/python3.10/dist-packages (from pymupdf) (1.23.22)\n",
            "Requirement already satisfied: sentence-transformers in /usr/local/lib/python3.10/dist-packages (2.5.1)\n",
            "Requirement already satisfied: transformers<5.0.0,>=4.32.0 in /usr/local/lib/python3.10/dist-packages (from sentence-transformers) (4.38.2)\n",
            "Requirement already satisfied: tqdm in /usr/local/lib/python3.10/dist-packages (from sentence-transformers) (4.66.2)\n",
            "Requirement already satisfied: torch>=1.11.0 in /usr/local/lib/python3.10/dist-packages (from sentence-transformers) (2.1.0+cu121)\n",
            "Requirement already satisfied: numpy in /usr/local/lib/python3.10/dist-packages (from sentence-transformers) (1.25.2)\n",
            "Requirement already satisfied: scikit-learn in /usr/local/lib/python3.10/dist-packages (from sentence-transformers) (1.2.2)\n",
            "Requirement already satisfied: scipy in /usr/local/lib/python3.10/dist-packages (from sentence-transformers) (1.11.4)\n",
            "Requirement already satisfied: huggingface-hub>=0.15.1 in /usr/local/lib/python3.10/dist-packages (from sentence-transformers) (0.20.3)\n",
            "Requirement already satisfied: Pillow in /usr/local/lib/python3.10/dist-packages (from sentence-transformers) (9.4.0)\n",
            "Requirement already satisfied: filelock in /usr/local/lib/python3.10/dist-packages (from huggingface-hub>=0.15.1->sentence-transformers) (3.13.1)\n",
            "Requirement already satisfied: fsspec>=2023.5.0 in /usr/local/lib/python3.10/dist-packages (from huggingface-hub>=0.15.1->sentence-transformers) (2023.6.0)\n",
            "Requirement already satisfied: requests in /usr/local/lib/python3.10/dist-packages (from huggingface-hub>=0.15.1->sentence-transformers) (2.31.0)\n",
            "Requirement already satisfied: pyyaml>=5.1 in /usr/local/lib/python3.10/dist-packages (from huggingface-hub>=0.15.1->sentence-transformers) (6.0.1)\n",
            "Requirement already satisfied: typing-extensions>=3.7.4.3 in /usr/local/lib/python3.10/dist-packages (from huggingface-hub>=0.15.1->sentence-transformers) (4.10.0)\n",
            "Requirement already satisfied: packaging>=20.9 in /usr/local/lib/python3.10/dist-packages (from huggingface-hub>=0.15.1->sentence-transformers) (23.2)\n",
            "Requirement already satisfied: sympy in /usr/local/lib/python3.10/dist-packages (from torch>=1.11.0->sentence-transformers) (1.12)\n",
            "Requirement already satisfied: networkx in /usr/local/lib/python3.10/dist-packages (from torch>=1.11.0->sentence-transformers) (3.2.1)\n",
            "Requirement already satisfied: jinja2 in /usr/local/lib/python3.10/dist-packages (from torch>=1.11.0->sentence-transformers) (3.1.3)\n",
            "Requirement already satisfied: triton==2.1.0 in /usr/local/lib/python3.10/dist-packages (from torch>=1.11.0->sentence-transformers) (2.1.0)\n",
            "Requirement already satisfied: regex!=2019.12.17 in /usr/local/lib/python3.10/dist-packages (from transformers<5.0.0,>=4.32.0->sentence-transformers) (2023.12.25)\n",
            "Requirement already satisfied: tokenizers<0.19,>=0.14 in /usr/local/lib/python3.10/dist-packages (from transformers<5.0.0,>=4.32.0->sentence-transformers) (0.15.2)\n",
            "Requirement already satisfied: safetensors>=0.4.1 in /usr/local/lib/python3.10/dist-packages (from transformers<5.0.0,>=4.32.0->sentence-transformers) (0.4.2)\n",
            "Requirement already satisfied: joblib>=1.1.1 in /usr/local/lib/python3.10/dist-packages (from scikit-learn->sentence-transformers) (1.3.2)\n",
            "Requirement already satisfied: threadpoolctl>=2.0.0 in /usr/local/lib/python3.10/dist-packages (from scikit-learn->sentence-transformers) (3.3.0)\n",
            "Requirement already satisfied: MarkupSafe>=2.0 in /usr/local/lib/python3.10/dist-packages (from jinja2->torch>=1.11.0->sentence-transformers) (2.1.5)\n",
            "Requirement already satisfied: charset-normalizer<4,>=2 in /usr/local/lib/python3.10/dist-packages (from requests->huggingface-hub>=0.15.1->sentence-transformers) (3.3.2)\n",
            "Requirement already satisfied: idna<4,>=2.5 in /usr/local/lib/python3.10/dist-packages (from requests->huggingface-hub>=0.15.1->sentence-transformers) (3.6)\n",
            "Requirement already satisfied: urllib3<3,>=1.21.1 in /usr/local/lib/python3.10/dist-packages (from requests->huggingface-hub>=0.15.1->sentence-transformers) (2.0.7)\n",
            "Requirement already satisfied: certifi>=2017.4.17 in /usr/local/lib/python3.10/dist-packages (from requests->huggingface-hub>=0.15.1->sentence-transformers) (2024.2.2)\n",
            "Requirement already satisfied: mpmath>=0.19 in /usr/local/lib/python3.10/dist-packages (from sympy->torch>=1.11.0->sentence-transformers) (1.3.0)\n",
            "Requirement already satisfied: trulens-eval in /usr/local/lib/python3.10/dist-packages (0.25.1)\n",
            "Requirement already satisfied: numpy>=1.23.5 in /usr/local/lib/python3.10/dist-packages (from trulens-eval) (1.25.2)\n",
            "Requirement already satisfied: frozendict>=2.3.8 in /usr/local/lib/python3.10/dist-packages (from trulens-eval) (2.4.0)\n",
            "Requirement already satisfied: munch>=3.0.0 in /usr/local/lib/python3.10/dist-packages (from trulens-eval) (4.0.0)\n",
            "Requirement already satisfied: dill>=0.3.7 in /usr/local/lib/python3.10/dist-packages (from trulens-eval) (0.3.8)\n",
            "Requirement already satisfied: tqdm>=4.66.1 in /usr/local/lib/python3.10/dist-packages (from trulens-eval) (4.66.2)\n",
            "Requirement already satisfied: requests>=2.31.0 in /usr/local/lib/python3.10/dist-packages (from trulens-eval) (2.31.0)\n",
            "Requirement already satisfied: nest-asyncio>=1.5.8 in /usr/local/lib/python3.10/dist-packages (from trulens-eval) (1.6.0)\n",
            "Requirement already satisfied: typing-extensions>=4.9.0 in /usr/local/lib/python3.10/dist-packages (from trulens-eval) (4.10.0)\n",
            "Requirement already satisfied: python-dotenv>=1.0.0 in /usr/local/lib/python3.10/dist-packages (from trulens-eval) (1.0.1)\n",
            "Requirement already satisfied: pydantic<3,>=2 in /usr/local/lib/python3.10/dist-packages (from trulens-eval) (2.6.3)\n",
            "Requirement already satisfied: merkle-json>=1.0.0 in /usr/local/lib/python3.10/dist-packages (from trulens-eval) (1.0.0)\n",
            "Requirement already satisfied: langchain>=0.0.354 in /usr/local/lib/python3.10/dist-packages (from trulens-eval) (0.1.11)\n",
            "Requirement already satisfied: langchain-core>=0.1.6 in /usr/local/lib/python3.10/dist-packages (from trulens-eval) (0.1.30)\n",
            "Requirement already satisfied: typing-inspect>=0.8.0 in /usr/local/lib/python3.10/dist-packages (from trulens-eval) (0.9.0)\n",
            "Requirement already satisfied: millify>=0.1.1 in /usr/local/lib/python3.10/dist-packages (from trulens-eval) (0.1.1)\n",
            "Requirement already satisfied: humanize>=4.6.0 in /usr/local/lib/python3.10/dist-packages (from trulens-eval) (4.7.0)\n",
            "Requirement already satisfied: streamlit>=1.31.1 in /usr/local/lib/python3.10/dist-packages (from trulens-eval) (1.32.0)\n",
            "Requirement already satisfied: streamlit-aggrid>=0.3.4.post3 in /usr/local/lib/python3.10/dist-packages (from trulens-eval) (0.3.4.post3)\n",
            "Requirement already satisfied: streamlit-extras>=0.2.7 in /usr/local/lib/python3.10/dist-packages (from trulens-eval) (0.4.0)\n",
            "Requirement already satisfied: sqlalchemy>=2.0.19 in /usr/local/lib/python3.10/dist-packages (from trulens-eval) (2.0.28)\n",
            "Requirement already satisfied: alembic>=1.11.2 in /usr/local/lib/python3.10/dist-packages (from trulens-eval) (1.13.1)\n",
            "Requirement already satisfied: Mako in /usr/local/lib/python3.10/dist-packages (from alembic>=1.11.2->trulens-eval) (1.3.2)\n",
            "Requirement already satisfied: PyYAML>=5.3 in /usr/local/lib/python3.10/dist-packages (from langchain>=0.0.354->trulens-eval) (6.0.1)\n",
            "Requirement already satisfied: aiohttp<4.0.0,>=3.8.3 in /usr/local/lib/python3.10/dist-packages (from langchain>=0.0.354->trulens-eval) (3.9.1)\n",
            "Requirement already satisfied: async-timeout<5.0.0,>=4.0.0 in /usr/local/lib/python3.10/dist-packages (from langchain>=0.0.354->trulens-eval) (4.0.3)\n",
            "Requirement already satisfied: dataclasses-json<0.7,>=0.5.7 in /usr/local/lib/python3.10/dist-packages (from langchain>=0.0.354->trulens-eval) (0.6.4)\n",
            "Requirement already satisfied: jsonpatch<2.0,>=1.33 in /usr/local/lib/python3.10/dist-packages (from langchain>=0.0.354->trulens-eval) (1.33)\n",
            "Requirement already satisfied: langchain-community<0.1,>=0.0.25 in /usr/local/lib/python3.10/dist-packages (from langchain>=0.0.354->trulens-eval) (0.0.27)\n",
            "Requirement already satisfied: langchain-text-splitters<0.1,>=0.0.1 in /usr/local/lib/python3.10/dist-packages (from langchain>=0.0.354->trulens-eval) (0.0.1)\n",
            "Requirement already satisfied: langsmith<0.2.0,>=0.1.17 in /usr/local/lib/python3.10/dist-packages (from langchain>=0.0.354->trulens-eval) (0.1.23)\n",
            "Requirement already satisfied: tenacity<9.0.0,>=8.1.0 in /usr/local/lib/python3.10/dist-packages (from langchain>=0.0.354->trulens-eval) (8.2.3)\n",
            "Requirement already satisfied: anyio<5,>=3 in /usr/local/lib/python3.10/dist-packages (from langchain-core>=0.1.6->trulens-eval) (3.7.1)\n",
            "Requirement already satisfied: packaging<24.0,>=23.2 in /usr/local/lib/python3.10/dist-packages (from langchain-core>=0.1.6->trulens-eval) (23.2)\n",
            "Requirement already satisfied: annotated-types>=0.4.0 in /usr/local/lib/python3.10/dist-packages (from pydantic<3,>=2->trulens-eval) (0.6.0)\n",
            "Requirement already satisfied: pydantic-core==2.16.3 in /usr/local/lib/python3.10/dist-packages (from pydantic<3,>=2->trulens-eval) (2.16.3)\n",
            "Requirement already satisfied: charset-normalizer<4,>=2 in /usr/local/lib/python3.10/dist-packages (from requests>=2.31.0->trulens-eval) (3.3.2)\n",
            "Requirement already satisfied: idna<4,>=2.5 in /usr/local/lib/python3.10/dist-packages (from requests>=2.31.0->trulens-eval) (3.6)\n",
            "Requirement already satisfied: urllib3<3,>=1.21.1 in /usr/local/lib/python3.10/dist-packages (from requests>=2.31.0->trulens-eval) (2.0.7)\n",
            "Requirement already satisfied: certifi>=2017.4.17 in /usr/local/lib/python3.10/dist-packages (from requests>=2.31.0->trulens-eval) (2024.2.2)\n",
            "Requirement already satisfied: greenlet!=0.4.17 in /usr/local/lib/python3.10/dist-packages (from sqlalchemy>=2.0.19->trulens-eval) (3.0.3)\n",
            "Requirement already satisfied: altair<6,>=4.0 in /usr/local/lib/python3.10/dist-packages (from streamlit>=1.31.1->trulens-eval) (4.2.2)\n",
            "Requirement already satisfied: blinker<2,>=1.0.0 in /usr/lib/python3/dist-packages (from streamlit>=1.31.1->trulens-eval) (1.4)\n",
            "Requirement already satisfied: cachetools<6,>=4.0 in /usr/local/lib/python3.10/dist-packages (from streamlit>=1.31.1->trulens-eval) (5.3.3)\n",
            "Requirement already satisfied: click<9,>=7.0 in /usr/local/lib/python3.10/dist-packages (from streamlit>=1.31.1->trulens-eval) (8.1.7)\n",
            "Requirement already satisfied: pandas<3,>=1.3.0 in /usr/local/lib/python3.10/dist-packages (from streamlit>=1.31.1->trulens-eval) (1.5.3)\n",
            "Requirement already satisfied: pillow<11,>=7.1.0 in /usr/local/lib/python3.10/dist-packages (from streamlit>=1.31.1->trulens-eval) (9.4.0)\n",
            "Requirement already satisfied: protobuf<5,>=3.20 in /usr/local/lib/python3.10/dist-packages (from streamlit>=1.31.1->trulens-eval) (3.20.3)\n",
            "Requirement already satisfied: pyarrow>=7.0 in /usr/local/lib/python3.10/dist-packages (from streamlit>=1.31.1->trulens-eval) (14.0.2)\n",
            "Requirement already satisfied: rich<14,>=10.14.0 in /usr/local/lib/python3.10/dist-packages (from streamlit>=1.31.1->trulens-eval) (13.7.1)\n",
            "Requirement already satisfied: toml<2,>=0.10.1 in /usr/local/lib/python3.10/dist-packages (from streamlit>=1.31.1->trulens-eval) (0.10.2)\n",
            "Requirement already satisfied: gitpython!=3.1.19,<4,>=3.0.7 in /usr/local/lib/python3.10/dist-packages (from streamlit>=1.31.1->trulens-eval) (3.1.42)\n",
            "Requirement already satisfied: pydeck<1,>=0.8.0b4 in /usr/local/lib/python3.10/dist-packages (from streamlit>=1.31.1->trulens-eval) (0.8.1b0)\n",
            "Requirement already satisfied: tornado<7,>=6.0.3 in /usr/local/lib/python3.10/dist-packages (from streamlit>=1.31.1->trulens-eval) (6.3.3)\n",
            "Requirement already satisfied: watchdog>=2.1.5 in /usr/local/lib/python3.10/dist-packages (from streamlit>=1.31.1->trulens-eval) (4.0.0)\n",
            "Requirement already satisfied: python-decouple<4.0,>=3.6 in /usr/local/lib/python3.10/dist-packages (from streamlit-aggrid>=0.3.4.post3->trulens-eval) (3.8)\n",
            "Requirement already satisfied: entrypoints>=0.4 in /usr/local/lib/python3.10/dist-packages (from streamlit-extras>=0.2.7->trulens-eval) (0.4)\n",
            "Requirement already satisfied: htbuilder>=0.6.2 in /usr/local/lib/python3.10/dist-packages (from streamlit-extras>=0.2.7->trulens-eval) (0.6.2)\n",
            "Requirement already satisfied: markdownlit>=0.0.5 in /usr/local/lib/python3.10/dist-packages (from streamlit-extras>=0.2.7->trulens-eval) (0.0.7)\n",
            "Requirement already satisfied: prometheus-client>=0.14.0 in /usr/local/lib/python3.10/dist-packages (from streamlit-extras>=0.2.7->trulens-eval) (0.20.0)\n",
            "Requirement already satisfied: st-annotated-text>=3.0.0 in /usr/local/lib/python3.10/dist-packages (from streamlit-extras>=0.2.7->trulens-eval) (4.0.1)\n",
            "Requirement already satisfied: streamlit-camera-input-live>=0.2.0 in /usr/local/lib/python3.10/dist-packages (from streamlit-extras>=0.2.7->trulens-eval) (0.2.0)\n",
            "Requirement already satisfied: streamlit-card>=0.0.4 in /usr/local/lib/python3.10/dist-packages (from streamlit-extras>=0.2.7->trulens-eval) (1.0.0)\n",
            "Requirement already satisfied: streamlit-embedcode>=0.1.2 in /usr/local/lib/python3.10/dist-packages (from streamlit-extras>=0.2.7->trulens-eval) (0.1.2)\n",
            "Requirement already satisfied: streamlit-faker>=0.0.2 in /usr/local/lib/python3.10/dist-packages (from streamlit-extras>=0.2.7->trulens-eval) (0.0.3)\n",
            "Requirement already satisfied: streamlit-image-coordinates<0.2.0,>=0.1.1 in /usr/local/lib/python3.10/dist-packages (from streamlit-extras>=0.2.7->trulens-eval) (0.1.6)\n",
            "Requirement already satisfied: streamlit-keyup>=0.1.9 in /usr/local/lib/python3.10/dist-packages (from streamlit-extras>=0.2.7->trulens-eval) (0.2.3)\n",
            "Requirement already satisfied: streamlit-toggle-switch>=1.0.2 in /usr/local/lib/python3.10/dist-packages (from streamlit-extras>=0.2.7->trulens-eval) (1.0.2)\n",
            "Requirement already satisfied: streamlit-vertical-slider>=2.5.5 in /usr/local/lib/python3.10/dist-packages (from streamlit-extras>=0.2.7->trulens-eval) (2.5.5)\n",
            "Requirement already satisfied: mypy-extensions>=0.3.0 in /usr/local/lib/python3.10/dist-packages (from typing-inspect>=0.8.0->trulens-eval) (1.0.0)\n",
            "Requirement already satisfied: attrs>=17.3.0 in /usr/local/lib/python3.10/dist-packages (from aiohttp<4.0.0,>=3.8.3->langchain>=0.0.354->trulens-eval) (23.2.0)\n",
            "Requirement already satisfied: multidict<7.0,>=4.5 in /usr/local/lib/python3.10/dist-packages (from aiohttp<4.0.0,>=3.8.3->langchain>=0.0.354->trulens-eval) (6.0.5)\n",
            "Requirement already satisfied: yarl<2.0,>=1.0 in /usr/local/lib/python3.10/dist-packages (from aiohttp<4.0.0,>=3.8.3->langchain>=0.0.354->trulens-eval) (1.9.4)\n",
            "Requirement already satisfied: frozenlist>=1.1.1 in /usr/local/lib/python3.10/dist-packages (from aiohttp<4.0.0,>=3.8.3->langchain>=0.0.354->trulens-eval) (1.4.1)\n",
            "Requirement already satisfied: aiosignal>=1.1.2 in /usr/local/lib/python3.10/dist-packages (from aiohttp<4.0.0,>=3.8.3->langchain>=0.0.354->trulens-eval) (1.3.1)\n",
            "Requirement already satisfied: jinja2 in /usr/local/lib/python3.10/dist-packages (from altair<6,>=4.0->streamlit>=1.31.1->trulens-eval) (3.1.3)\n",
            "Requirement already satisfied: jsonschema>=3.0 in /usr/local/lib/python3.10/dist-packages (from altair<6,>=4.0->streamlit>=1.31.1->trulens-eval) (4.19.2)\n",
            "Requirement already satisfied: toolz in /usr/local/lib/python3.10/dist-packages (from altair<6,>=4.0->streamlit>=1.31.1->trulens-eval) (0.12.1)\n",
            "Requirement already satisfied: sniffio>=1.1 in /usr/local/lib/python3.10/dist-packages (from anyio<5,>=3->langchain-core>=0.1.6->trulens-eval) (1.3.1)\n",
            "Requirement already satisfied: exceptiongroup in /usr/local/lib/python3.10/dist-packages (from anyio<5,>=3->langchain-core>=0.1.6->trulens-eval) (1.2.0)\n",
            "Requirement already satisfied: marshmallow<4.0.0,>=3.18.0 in /usr/local/lib/python3.10/dist-packages (from dataclasses-json<0.7,>=0.5.7->langchain>=0.0.354->trulens-eval) (3.21.1)\n",
            "Requirement already satisfied: gitdb<5,>=4.0.1 in /usr/local/lib/python3.10/dist-packages (from gitpython!=3.1.19,<4,>=3.0.7->streamlit>=1.31.1->trulens-eval) (4.0.11)\n",
            "Requirement already satisfied: more-itertools in /usr/local/lib/python3.10/dist-packages (from htbuilder>=0.6.2->streamlit-extras>=0.2.7->trulens-eval) (10.1.0)\n",
            "Requirement already satisfied: jsonpointer>=1.9 in /usr/local/lib/python3.10/dist-packages (from jsonpatch<2.0,>=1.33->langchain>=0.0.354->trulens-eval) (2.4)\n",
            "Requirement already satisfied: orjson<4.0.0,>=3.9.14 in /usr/local/lib/python3.10/dist-packages (from langsmith<0.2.0,>=0.1.17->langchain>=0.0.354->trulens-eval) (3.9.15)\n",
            "Requirement already satisfied: markdown in /usr/local/lib/python3.10/dist-packages (from markdownlit>=0.0.5->streamlit-extras>=0.2.7->trulens-eval) (3.5.2)\n",
            "Requirement already satisfied: lxml in /usr/local/lib/python3.10/dist-packages (from markdownlit>=0.0.5->streamlit-extras>=0.2.7->trulens-eval) (4.9.4)\n",
            "Requirement already satisfied: favicon in /usr/local/lib/python3.10/dist-packages (from markdownlit>=0.0.5->streamlit-extras>=0.2.7->trulens-eval) (0.7.0)\n",
            "Requirement already satisfied: pymdown-extensions in /usr/local/lib/python3.10/dist-packages (from markdownlit>=0.0.5->streamlit-extras>=0.2.7->trulens-eval) (10.7.1)\n",
            "Requirement already satisfied: python-dateutil>=2.8.1 in /usr/local/lib/python3.10/dist-packages (from pandas<3,>=1.3.0->streamlit>=1.31.1->trulens-eval) (2.8.2)\n",
            "Requirement already satisfied: pytz>=2020.1 in /usr/local/lib/python3.10/dist-packages (from pandas<3,>=1.3.0->streamlit>=1.31.1->trulens-eval) (2023.4)\n",
            "Requirement already satisfied: markdown-it-py>=2.2.0 in /usr/local/lib/python3.10/dist-packages (from rich<14,>=10.14.0->streamlit>=1.31.1->trulens-eval) (3.0.0)\n",
            "Requirement already satisfied: pygments<3.0.0,>=2.13.0 in /usr/local/lib/python3.10/dist-packages (from rich<14,>=10.14.0->streamlit>=1.31.1->trulens-eval) (2.16.1)\n",
            "Requirement already satisfied: faker in /usr/local/lib/python3.10/dist-packages (from streamlit-faker>=0.0.2->streamlit-extras>=0.2.7->trulens-eval) (24.1.0)\n",
            "Requirement already satisfied: matplotlib in /usr/local/lib/python3.10/dist-packages (from streamlit-faker>=0.0.2->streamlit-extras>=0.2.7->trulens-eval) (3.7.1)\n",
            "Requirement already satisfied: MarkupSafe>=0.9.2 in /usr/local/lib/python3.10/dist-packages (from Mako->alembic>=1.11.2->trulens-eval) (2.1.5)\n",
            "Requirement already satisfied: smmap<6,>=3.0.1 in /usr/local/lib/python3.10/dist-packages (from gitdb<5,>=4.0.1->gitpython!=3.1.19,<4,>=3.0.7->streamlit>=1.31.1->trulens-eval) (5.0.1)\n",
            "Requirement already satisfied: jsonschema-specifications>=2023.03.6 in /usr/local/lib/python3.10/dist-packages (from jsonschema>=3.0->altair<6,>=4.0->streamlit>=1.31.1->trulens-eval) (2023.12.1)\n",
            "Requirement already satisfied: referencing>=0.28.4 in /usr/local/lib/python3.10/dist-packages (from jsonschema>=3.0->altair<6,>=4.0->streamlit>=1.31.1->trulens-eval) (0.33.0)\n",
            "Requirement already satisfied: rpds-py>=0.7.1 in /usr/local/lib/python3.10/dist-packages (from jsonschema>=3.0->altair<6,>=4.0->streamlit>=1.31.1->trulens-eval) (0.18.0)\n",
            "Requirement already satisfied: mdurl~=0.1 in /usr/local/lib/python3.10/dist-packages (from markdown-it-py>=2.2.0->rich<14,>=10.14.0->streamlit>=1.31.1->trulens-eval) (0.1.2)\n",
            "Requirement already satisfied: six>=1.5 in /usr/local/lib/python3.10/dist-packages (from python-dateutil>=2.8.1->pandas<3,>=1.3.0->streamlit>=1.31.1->trulens-eval) (1.16.0)\n",
            "Requirement already satisfied: beautifulsoup4>=4.7.0 in /usr/local/lib/python3.10/dist-packages (from favicon->markdownlit>=0.0.5->streamlit-extras>=0.2.7->trulens-eval) (4.12.3)\n",
            "Requirement already satisfied: contourpy>=1.0.1 in /usr/local/lib/python3.10/dist-packages (from matplotlib->streamlit-faker>=0.0.2->streamlit-extras>=0.2.7->trulens-eval) (1.2.0)\n",
            "Requirement already satisfied: cycler>=0.10 in /usr/local/lib/python3.10/dist-packages (from matplotlib->streamlit-faker>=0.0.2->streamlit-extras>=0.2.7->trulens-eval) (0.12.1)\n",
            "Requirement already satisfied: fonttools>=4.22.0 in /usr/local/lib/python3.10/dist-packages (from matplotlib->streamlit-faker>=0.0.2->streamlit-extras>=0.2.7->trulens-eval) (4.49.0)\n",
            "Requirement already satisfied: kiwisolver>=1.0.1 in /usr/local/lib/python3.10/dist-packages (from matplotlib->streamlit-faker>=0.0.2->streamlit-extras>=0.2.7->trulens-eval) (1.4.5)\n",
            "Requirement already satisfied: pyparsing>=2.3.1 in /usr/local/lib/python3.10/dist-packages (from matplotlib->streamlit-faker>=0.0.2->streamlit-extras>=0.2.7->trulens-eval) (3.1.1)\n",
            "Requirement already satisfied: soupsieve>1.2 in /usr/local/lib/python3.10/dist-packages (from beautifulsoup4>=4.7.0->favicon->markdownlit>=0.0.5->streamlit-extras>=0.2.7->trulens-eval) (2.5)\n"
          ]
        }
      ],
      "source": [
        "# Required Packages\n",
        "!pip install chromadb\n",
        "!pip install langchain\n",
        "!pip install pymupdf\n",
        "!pip install sentence-transformers\n",
        "\n",
        "!pip install trulens-eval"
      ]
    },
    {
      "cell_type": "code",
      "execution_count": 7,
      "metadata": {
        "id": "JBvBra3AI47E"
      },
      "outputs": [],
      "source": [
        "# import required libraries\n",
        "import os\n",
        "import re\n",
        "import time\n",
        "import numpy as np\n",
        "import pandas as pd\n",
        "from dotenv import load_dotenv\n",
        "from typing import List, Optional\n",
        "\n",
        "# import libraries\n",
        "from transformers import AutoTokenizer\n",
        "from sentence_transformers import SentenceTransformer\n",
        "\n",
        "# import LangChain libraries\n",
        "from langchain import hub\n",
        "from langchain import PromptTemplate\n",
        "from langchain.chains import RetrievalQA\n",
        "from langchain.vectorstores import Chroma\n",
        "from langchain.llms import HuggingFaceHub\n",
        "from langchain.document_loaders import PDFMinerLoader\n",
        "from langchain_core.prompts import ChatPromptTemplate\n",
        "from langchain_core.runnables import RunnablePassthrough\n",
        "from langchain.embeddings import HuggingFaceBgeEmbeddings\n",
        "from langchain_core.output_parsers import StrOutputParser\n",
        "from langchain.document_loaders import UnstructuredPDFLoader\n",
        "from sentence_transformers.cross_encoder import CrossEncoder\n",
        "from langchain.chains.question_answering import load_qa_chain\n",
        "from langchain_community.document_loaders import PyMuPDFLoader\n",
        "from langchain.retrievers.multi_query import MultiQueryRetriever\n",
        "from langchain.text_splitter import RecursiveCharacterTextSplitter\n",
        "from langchain_community.document_transformers import LongContextReorder\n",
        "from langchain_core.documents import Document\n",
        "from langchain_core.prompts import ChatPromptTemplate\n",
        "from langchain.chains.combine_documents import create_stuff_documents_chain\n",
        "from langchain_core.runnables import RunnableParallel\n",
        "from langchain.docstore.document import Document as LangchainDocument"
      ]
    },
    {
      "cell_type": "code",
      "execution_count": 8,
      "metadata": {
        "id": "BRCohWdSJJE4"
      },
      "outputs": [],
      "source": [
        "# Set to display entire row content\n",
        "pd.set_option('display.max_colwidth', None)"
      ]
    },
    {
      "cell_type": "markdown",
      "metadata": {
        "id": "cISXYk5iJNzK"
      },
      "source": [
        "## Declare Constants"
      ]
    },
    {
      "cell_type": "code",
      "execution_count": 9,
      "metadata": {
        "id": "UfiTtphkJLQ8"
      },
      "outputs": [],
      "source": [
        "# path constants\n",
        "ROOT_PATH = \"/content/drive/MyDrive/ai-ml-projects/hf-llm-rag\"\n",
        "DATA_DIR = ROOT_PATH + \"/data\"\n",
        "PERSIST_DIR = ROOT_PATH + \"/store\"\n",
        "TEST_DIR = ROOT_PATH + \"/test\"\n",
        "EVAL_FILE_PATH = TEST_DIR+\"/eval_questions.txt\""
      ]
    },
    {
      "cell_type": "code",
      "execution_count": 10,
      "metadata": {
        "id": "4DqqmT6KOlVx"
      },
      "outputs": [],
      "source": [
        "# model names\n",
        "HF_MODEL = \"huggingfaceh4/zephyr-7b-beta\"\n",
        "EMBEDDING_MODEL = \"BAAI/bge-large-en-v1.5\"\n",
        "RERANKER_MODEL = \"colbert-ir/colbertv2.0\""
      ]
    },
    {
      "cell_type": "markdown",
      "metadata": {
        "id": "AM5MQkI7Jety"
      },
      "source": [
        "## Load Models"
      ]
    },
    {
      "cell_type": "code",
      "execution_count": 11,
      "metadata": {
        "id": "ALLVbSGWiOkm",
        "colab": {
          "base_uri": "https://localhost:8080/"
        },
        "outputId": "6e205883-fbe1-47b2-e9ba-155fbeab8572"
      },
      "outputs": [
        {
          "output_type": "stream",
          "name": "stderr",
          "text": [
            "/usr/local/lib/python3.10/dist-packages/langchain_core/_api/deprecation.py:117: LangChainDeprecationWarning: The class `langchain_community.llms.huggingface_hub.HuggingFaceHub` was deprecated in langchain-community 0.0.21 and will be removed in 0.2.0. Use HuggingFaceEndpoint instead.\n",
            "  warn_deprecated(\n"
          ]
        }
      ],
      "source": [
        "# instantiate LLM\n",
        "llm = HuggingFaceHub(\n",
        "    repo_id=HF_MODEL,\n",
        "    model_kwargs={\n",
        "        \"max_new_tokens\": 512,\n",
        "        \"repetition_penalty\": 1.1,\n",
        "        \"temperature\": 0.2,\n",
        "        \"do_sample\": True,\n",
        "        \"return_full_text\": False\n",
        "    }\n",
        ")"
      ]
    },
    {
      "cell_type": "code",
      "execution_count": 12,
      "metadata": {
        "id": "MH7_URJOJh-H"
      },
      "outputs": [],
      "source": [
        "# instantiate embedding model\n",
        "def get_embedding_model():\n",
        "\n",
        "  # check if GPU is available\n",
        "  import tensorflow as tf\n",
        "  device = 'cuda' if tf.test.gpu_device_name() else 'cpu'\n",
        "  print('device:', device)\n",
        "\n",
        "  hf_bge_embeddings = HuggingFaceBgeEmbeddings(\n",
        "      model_name=EMBEDDING_MODEL,\n",
        "      model_kwargs={'device': device},\n",
        "      encode_kwargs={'normalize_embeddings': True} # set True to compute cosine similarity\n",
        "  )\n",
        "\n",
        "  # To get the value of the max sequence_length, we will query the underlying `SentenceTransformer` object used in the RecursiveCharacterTextSplitter.\n",
        "  print(\n",
        "      f\"Model's maximum sequence length: {SentenceTransformer(EMBEDDING_MODEL).max_seq_length}\"\n",
        "  )\n",
        "\n",
        "  return hf_bge_embeddings"
      ]
    },
    {
      "cell_type": "code",
      "execution_count": 13,
      "metadata": {
        "id": "XDhaiFrpJWAt",
        "colab": {
          "base_uri": "https://localhost:8080/"
        },
        "outputId": "7b586b72-3b59-4bd5-aa90-99b70aefb2de"
      },
      "outputs": [
        {
          "output_type": "stream",
          "name": "stdout",
          "text": [
            "device: cpu\n",
            "Model's maximum sequence length: 512\n"
          ]
        }
      ],
      "source": [
        "# get embedding model\n",
        "embedding_model = get_embedding_model()"
      ]
    },
    {
      "cell_type": "markdown",
      "metadata": {
        "id": "6XwyFHIOgTpa"
      },
      "source": [
        "# Retriever"
      ]
    },
    {
      "cell_type": "markdown",
      "metadata": {
        "id": "F3febw-2PFOd"
      },
      "source": [
        "## Load Data"
      ]
    },
    {
      "cell_type": "code",
      "execution_count": 14,
      "metadata": {
        "id": "sJMZyD02PMBR"
      },
      "outputs": [],
      "source": [
        "# load documents into memory\n",
        "def load_documents(dirPath):\n",
        "  documents = []\n",
        "  for root, _, files in os.walk(dirPath):\n",
        "      for file in files:\n",
        "          if file.endswith(\".pdf\"):\n",
        "              print(f'Reading File: {file}')\n",
        "\n",
        "              # read PDF\n",
        "              loader = PyMuPDFLoader(os.path.join(root, file))\n",
        "              document = loader.load()\n",
        "\n",
        "              # append to docs\n",
        "              documents += document\n",
        "  return documents"
      ]
    },
    {
      "cell_type": "code",
      "execution_count": 14,
      "metadata": {
        "id": "B0sYy95sPd1f"
      },
      "outputs": [],
      "source": []
    },
    {
      "cell_type": "code",
      "execution_count": 15,
      "metadata": {
        "id": "zlvj_2qxJSKj"
      },
      "outputs": [],
      "source": [
        "# split documents\n",
        "def chunk_documents(\n",
        "    chunk_size: int,\n",
        "    knowledge_base: List[LangchainDocument],\n",
        "    tokenizer_name: Optional[str] = EMBEDDING_MODEL,\n",
        ") -> List[LangchainDocument]:\n",
        "    \"\"\"\n",
        "    Split documents into chunks of maximum size `chunk_size` tokens and return a list of documents.\n",
        "    \"\"\"\n",
        "    text_splitter = RecursiveCharacterTextSplitter.from_huggingface_tokenizer(\n",
        "        AutoTokenizer.from_pretrained(tokenizer_name),\n",
        "        chunk_size=chunk_size,\n",
        "        chunk_overlap=int(chunk_size / 10),\n",
        "        add_start_index=True,\n",
        "        strip_whitespace=True,\n",
        "        separators=[\"\\n\\n\", \"\\n\", \".\", \"\"]\n",
        "    )\n",
        "\n",
        "    docs_processed = []\n",
        "    for doc in knowledge_base:\n",
        "        docs_processed += text_splitter.split_documents([doc])\n",
        "\n",
        "    # Remove duplicates\n",
        "    unique_texts = {}\n",
        "    docs_processed_unique = []\n",
        "    for doc in docs_processed:\n",
        "        if doc.page_content not in unique_texts:\n",
        "            unique_texts[doc.page_content] = True\n",
        "            docs_processed_unique.append(doc)\n",
        "\n",
        "    return docs_processed_unique"
      ]
    },
    {
      "cell_type": "markdown",
      "metadata": {
        "id": "YyRF4GzjPe9k"
      },
      "source": [
        "## Generate Embeddings"
      ]
    },
    {
      "cell_type": "code",
      "execution_count": 16,
      "metadata": {
        "id": "wCmva3V6OWgR"
      },
      "outputs": [],
      "source": [
        "# generate embeddings\n",
        "def generate_embeddings():\n",
        "\n",
        "  # load documents\n",
        "  documents = load_documents(DATA_DIR)\n",
        "\n",
        "  # chunk documents to honor the context length\n",
        "  chunked_documents = chunk_documents(\n",
        "    SentenceTransformer(EMBEDDING_MODEL).max_seq_length,  # We choose a chunk size adapted to our model\n",
        "    documents,\n",
        "    tokenizer_name=EMBEDDING_MODEL,\n",
        ")\n",
        "\n",
        "  # save indexes to disk\n",
        "  vector_store = Chroma.from_documents(\n",
        "      documents=chunked_documents,\n",
        "      embedding=get_embedding_model(),\n",
        "      collection_metadata={\"hnsw:space\": \"cosine\"},\n",
        "      persist_directory=PERSIST_DIR\n",
        "  )\n",
        "\n",
        "  # zip indexes (optional)\n",
        "  # !zip -FS -r {PERSIST_DIR+\".zip\"} {PERSIST_DIR\"}\n",
        "\n",
        "  return vector_store"
      ]
    },
    {
      "cell_type": "code",
      "execution_count": 17,
      "metadata": {
        "id": "svt36m4hQzQU"
      },
      "outputs": [],
      "source": [
        "# load embeddings\n",
        "def load_embeddings():\n",
        "  # load indexes from disk\n",
        "  vector_store = Chroma(persist_directory=PERSIST_DIR, embedding_function=get_embedding_model())\n",
        "\n",
        "  return vector_store"
      ]
    },
    {
      "cell_type": "markdown",
      "metadata": {
        "id": "wLrRL6T4Rg03"
      },
      "source": [
        "## Retrieve Store"
      ]
    },
    {
      "cell_type": "code",
      "execution_count": 18,
      "metadata": {
        "id": "IdyjU0QzRc4J"
      },
      "outputs": [],
      "source": [
        "# retrieve vector store\n",
        "def get_store():\n",
        "  if [f for f in os.listdir(PERSIST_DIR) if not f.startswith('.')] == []:\n",
        "    print(\"Chroma DB is empty. Generating indexes...\")\n",
        "    return generate_embeddings()\n",
        "  else:\n",
        "    print(\"Chroma DB is not empty. Loading existing indexes!\")\n",
        "    return load_embeddings()"
      ]
    },
    {
      "cell_type": "code",
      "execution_count": 19,
      "metadata": {
        "id": "HOBG_uXRRirF"
      },
      "outputs": [],
      "source": [
        "# instantiate base retriever\n",
        "def get_base_retriever(top_k=4):\n",
        "\n",
        "  # get the vector store\n",
        "  vector_store = get_store()\n",
        "\n",
        "  base_retriever = vector_store.as_retriever(\n",
        "      search_type='mmr',\n",
        "      search_kwargs={'k': top_k}\n",
        "  )\n",
        "\n",
        "  return base_retriever"
      ]
    },
    {
      "cell_type": "code",
      "execution_count": 20,
      "metadata": {
        "id": "oEYjz54uR6oZ",
        "colab": {
          "base_uri": "https://localhost:8080/"
        },
        "outputId": "72612505-b167-408c-dd42-df1f6d36201a"
      },
      "outputs": [
        {
          "output_type": "stream",
          "name": "stdout",
          "text": [
            "Chroma DB is not empty. Loading existing indexes!\n",
            "device: cpu\n",
            "Model's maximum sequence length: 512\n"
          ]
        }
      ],
      "source": [
        "# get the base retriever\n",
        "base_retriever = get_base_retriever()"
      ]
    },
    {
      "cell_type": "markdown",
      "metadata": {
        "id": "0jWv5z986pgA"
      },
      "source": [
        "## Evaluate"
      ]
    },
    {
      "cell_type": "code",
      "execution_count": 21,
      "metadata": {
        "id": "yFAJ-u948lSo"
      },
      "outputs": [],
      "source": [
        "# results dataframe\n",
        "df_eval = pd.DataFrame()"
      ]
    },
    {
      "cell_type": "code",
      "execution_count": 22,
      "metadata": {
        "id": "XfZuShPr636b",
        "colab": {
          "base_uri": "https://localhost:8080/"
        },
        "outputId": "37943ae3-5219-4051-a97b-82a570ed99bc"
      },
      "outputs": [
        {
          "output_type": "execute_result",
          "data": {
            "text/plain": [
              "['What is FastMap?',\n",
              " 'What is a Role Template?',\n",
              " 'What is the purpose of Object Reset?',\n",
              " 'What is the purpose of Reporting Periods?',\n",
              " 'List the system variables used in Expressions.',\n",
              " 'Provide the steps to configure Watson Assistant in OpenPages?',\n",
              " 'List the user administration permissions that can be delegated.',\n",
              " 'What is the difference between PRE and POST position in Triggers?',\n",
              " 'What are the features of Operational Risk Management in OpenPages?',\n",
              " 'What are the different administrator permissions that can be delegated to a user group administrator?',\n",
              " 'What are the different access controls available for non-participants for a standard stage within a workflow?']"
            ]
          },
          "metadata": {},
          "execution_count": 22
        }
      ],
      "source": [
        "# read eval questions\n",
        "eval_questions = []\n",
        "with open(EVAL_FILE_PATH, 'r') as file:\n",
        "    for line in file:\n",
        "        # Remove newline character and convert to integer\n",
        "        item = line.strip()\n",
        "        eval_questions.append(item)\n",
        "eval_questions"
      ]
    },
    {
      "cell_type": "code",
      "execution_count": 23,
      "metadata": {
        "id": "OGO7l4EfkdGI"
      },
      "outputs": [],
      "source": [
        "# evaluate rag chain\n",
        "def evaluate_rag(chain_name, rag_chain):\n",
        "\n",
        "  columns = ['Chain', 'Question', 'Response', 'Time', 'Context']\n",
        "  df = pd.DataFrame(columns=columns)\n",
        "\n",
        "  for question in eval_questions:\n",
        "\n",
        "    start_time = time.time()\n",
        "    response = rag_chain.invoke(question)\n",
        "    end_time = time.time()\n",
        "\n",
        "    row = {\n",
        "        'Chain': chain_name,\n",
        "        'Question': response['query'],\n",
        "        'Response': response['result'],\n",
        "        'Time': \"{:.2f}\".format(round(end_time - start_time, 2)),\n",
        "        'Context': response['context']\n",
        "    }\n",
        "\n",
        "    df = pd.concat([df, pd.DataFrame.from_records([row])])\n",
        "\n",
        "  return df"
      ]
    },
    {
      "cell_type": "markdown",
      "metadata": {
        "id": "FqBv9J6LgLAz"
      },
      "source": [
        "# Reader"
      ]
    },
    {
      "cell_type": "code",
      "execution_count": 24,
      "metadata": {
        "id": "Qs-fLD_UjhVc"
      },
      "outputs": [],
      "source": [
        "# query = \"What is the purpose of Object Reset in OpenPages?\"\n",
        "# query = \"Can you help me understand about Role Templates in OpenPages?\"\n",
        "# query = \"List all the system variables used in Expressions.\"\n",
        "query = \"Provide the features of Operational Risk Managmement module in OpenPages.\"\n",
        "# query = \"Help me understand about Regulatory Compliance solution that OpenPages offers.\""
      ]
    },
    {
      "cell_type": "markdown",
      "metadata": {
        "id": "c0D0gxoh_GVS"
      },
      "source": [
        "You are an AI assistant for question-answering tasks. Use the following pieces of retrieved context to answer the question. If the answer cannot be deduced from the context, just say that you don't know. Keep the answer short and concise.</s>"
      ]
    },
    {
      "cell_type": "code",
      "execution_count": 25,
      "metadata": {
        "id": "YAwNcM2NR9Af"
      },
      "outputs": [],
      "source": [
        "prompt_template = \"\"\"\n",
        "<|system|>\n",
        "You are an AI assistant for question-answering tasks. Use the following pieces of retrieved context to answer the question. If you don't know the answer, just say that you don't know. Use three sentences maximum and keep the answer concise.</s>\n",
        "{context}</s>\n",
        "<|user|>\n",
        "{query}</s>\n",
        "<|assistant|>\n",
        "\"\"\"\n",
        "chat_prompt_template = ChatPromptTemplate.from_template(prompt_template)"
      ]
    },
    {
      "cell_type": "code",
      "execution_count": 26,
      "metadata": {
        "id": "QkS92gIGjDse"
      },
      "outputs": [],
      "source": [
        "rag_chain = (\n",
        "    RunnablePassthrough.assign(context=(lambda x: format_docs(x[\"context\"])))\n",
        "    | chat_prompt_template\n",
        "    | llm\n",
        "    | StrOutputParser()\n",
        ")\n",
        "\n",
        "qa_w_prompt = RunnableParallel(\n",
        "    {\"context\": base_retriever, \"query\": RunnablePassthrough()}\n",
        ").assign(result=rag_chain)"
      ]
    },
    {
      "cell_type": "code",
      "execution_count": 27,
      "metadata": {
        "id": "8CGLDOF0jGw1",
        "colab": {
          "base_uri": "https://localhost:8080/"
        },
        "outputId": "e1877a8f-e104-45b9-dae1-0a0166b35e5e"
      },
      "outputs": [
        {
          "output_type": "execute_result",
          "data": {
            "text/plain": [
              "{'context': [Document(page_content='Chapter 15. Using OpenPages Operational Risk\\nManagement objects\\nIBM OpenPages Operational Risk Management combines document and process management with a\\nmonitoring and decision support system that enables organizations to analyze, manage, and mitigate risk\\nin a simple and efficient manner.\\nIBM OpenPages Operational Risk Management helps automate the process of measuring and monitoring\\noperational risk. It combines all risk data, including risk and control self assessments, loss events,\\nscenario analysis, external losses, and key risk indicators (KRI), into a single integrated solution.\\nIBM OpenPages Operational Risk Management includes the following key features:\\n• Loss Events, which include the following activities:\\n– Tracking, assessing, and managing both internal and external events that could result in operational\\nloss.\\n– Managing multiple impact events and recoveries that are associated with operational losses.\\n• Risk and Control Self Assessments (RCSA), which include the following activities:\\n– Identification, measurement, and mitigation of risks.\\n– Testing and documentation of internal controls.\\n• Key Risk Indicators (KRIs) and Key Performance Indicators (KPIs), which can track performance metrics\\nto potentially show the presence or state of a risk condition or trend.\\n• Scenario Analysis, which is an assessment technique that is used to identify and measure specific kinds\\nof risks, in particular, low frequency, high-severity events.\\n• External Loss Events provide the ability to import loss data from IBM FIRST Risk Case Studies,\\nORX, and ORIC loss databases into OpenPages Operational Risk Management for scenario analysis,\\nbenchmarking, and reports generation. You can also export loss data to analytic tools or capital\\nallocation applications.\\n• Issue Management and Remediation (IMR), which includes the following activities:\\n– Issue Creation and Assignment\\n– Action Creation and Assignment\\n– Remediation Performance\\n– Issue closedown\\n– Reporting\\n• Reporting, monitoring, and analytics.\\nOpenPages Operational Risk Management objects', metadata={'author': '', 'creationDate': \"D:20240210051948Z00'00'\", 'creator': 'AH XSL Formatter V7.2 MR4 for Linux64 : 7.2.5.55968 (2022-03-22T13:56+09)', 'file_path': '/content/drive/MyDrive/ai-ml-projects/hf-llm-rag/data/op_user_guide.pdf', 'format': 'PDF 1.4', 'keywords': '', 'modDate': \"D:20240210051948Z00'00'\", 'page': 132, 'producer': 'macOS Version 14.2.1 (Build 23C71) Quartz PDFContext', 'source': '/content/drive/MyDrive/ai-ml-projects/hf-llm-rag/data/op_user_guide.pdf', 'start_index': 0, 'subject': '', 'title': '  IBM OpenPages with Watson   Version 9.0.0  :   User Guide  ', 'total_pages': 158, 'trapped': ''}),\n",
              "  Document(page_content='Chapter 19. OpenPages Model Risk Governance\\nobjects\\nThis topic provides information about the OpenPages Model Risk Governance objects.\\nOpenPages Model Risk Governance\\nIBM OpenPages Model Risk Governance (MRG) supports organizations in organizing and centralizing their\\nModel Inventory.\\nAs a solution IBM OpenPages Model Risk Governance provides a configurable and customizable platform,\\nallowing firms to:\\n• Organize, document, and maintain an enterprise-wide inventory of models and their usages\\n• Document and track issues that are associated with models in a central location\\n• Record Model Change management governance activities\\n• Schedule, track, and manage Model Reviews and Validations\\n• Conduct periodic model attestations and model risk assessments\\n• Assign appropriate roles and responsibilities for model ownership and model risk management\\n• Monitor performance and status of their Model Risk Management program\\n• View the relationships between their Model Inventory and the relevant aspects of their Policy and\\nCompliance obligations\\nIBM Watson OpenScale Integration\\nIBM OpenPages Model Risk Governance (MRG) includes an out-of-the-box integration with IBM Watson\\nOpenScale.\\nIBM Watson OpenScale is a tool that monitors and measures outcomes from AI Models across their\\nlifecycle and performs ongoing validations of AI Models. Organizations can include AI models in their\\nModel Inventory and send the results of the performance monitoring directly to OpenPages.\\nShow me how\\nThis video provides an overview of how OpenPages is integrated with IBM Watson OpenScale:\\nhttps://youtu.be/JOGffAHGreQ\\nFields\\nThe following fields are used in the integration with IBM Watson OpenScale:\\n• MRG-Model field group\\n– Machine Learning Model\\n– Monitored with Watson Studio\\n• MRG-Metric-Shared field group\\n– Metric Type\\n– Watson Studio Category\\n– Watson Studio Description\\n– Watson Studio Metric\\n– Watson Studio Metric Value', metadata={'author': '', 'creationDate': \"D:20240210051948Z00'00'\", 'creator': 'AH XSL Formatter V7.2 MR4 for Linux64 : 7.2.5.55968 (2022-03-22T13:56+09)', 'file_path': '/content/drive/MyDrive/ai-ml-projects/hf-llm-rag/data/op_user_guide.pdf', 'format': 'PDF 1.4', 'keywords': '', 'modDate': \"D:20240210051948Z00'00'\", 'page': 148, 'producer': 'macOS Version 14.2.1 (Build 23C71) Quartz PDFContext', 'source': '/content/drive/MyDrive/ai-ml-projects/hf-llm-rag/data/op_user_guide.pdf', 'start_index': 0, 'subject': '', 'title': '  IBM OpenPages with Watson   Version 9.0.0  :   User Guide  ', 'total_pages': 158, 'trapped': ''}),\n",
              "  Document(page_content='Chapter 35. IBM OpenPages IT Governance with\\nRiskLens\\nIBM OpenPages IT Governance includes an integration with the cyber risk quantification analysis platform\\nRiskLens.\\nWithin the RiskLens platform, users record the assets and threats to include in scenarios, and then\\npopulate these objects in accordance with the FAIR (Factor Analysis of Information Risk) method by using\\ndata helpers that are provided in RiskLens for guidance.\\nIn OpenPages, users specify the risks to send to RiskLens for inclusion within a risk assessment in\\nRiskLens. An OpenPages object can be associated to one or more scenarios within RiskLens.\\nIn RiskLens, Monte Carlo simulations are performed on the risks and results are generated.\\nWhen the scheduled job in OpenPages runs, the loss exposure metrics that were generated by the Monte\\nCarlo simulations are pulled into OpenPages for use throughout the application.\\nThe scheduled job in OpenPages also pulls updated data from RiskLens when risk assessments are\\nmodified in RiskLens.\\nPrerequisites\\nTo use the connector, you must meet the following prerequisites:\\n• You must have a RiskLens subscription. Work with RiskLens to set up access. For more information,\\ncontact RiskLens.\\n• You must install the RiskLens connector. For more information, contact IBM OpenPages Support.\\nSetting up the integration with RiskLens\\nTo set up the integration, you need to do the following tasks:\\n• In RiskLens, create Assets, Threats, and Scenarios by using data helpers.\\n• Configure the integration. See “Configuring the RiskLens connector” on page 882.\\nWhen the RiskLens job runs, it does the following tasks:\\n• Identifies risk objects in OpenPages that have the Perform Risk Analysis field set to Yes and sends\\nthem to RiskLens.\\n• If a risk assessment does not exist in RiskLens for the risk, the job creates one.', metadata={'author': '', 'creationDate': \"D:20240210051907Z00'00'\", 'creator': 'AH XSL Formatter V7.2 MR4 for Linux64 : 7.2.5.55968 (2022-03-22T13:56+09)', 'file_path': '/content/drive/MyDrive/ai-ml-projects/hf-llm-rag/data/9.0 administrators_guide.pdf', 'format': 'PDF 1.4', 'keywords': '', 'modDate': \"D:20240210051907Z00'00'\", 'page': 880, 'producer': 'macOS Version 14.2.1 (Build 23C71) Quartz PDFContext', 'source': '/content/drive/MyDrive/ai-ml-projects/hf-llm-rag/data/9.0 administrators_guide.pdf', 'start_index': 0, 'subject': '', 'title': \"  IBM OpenPages with Watson   Version 9.0.0:   Administrator's Guide  \", 'total_pages': 968, 'trapped': ''}),\n",
              "  Document(page_content='Table 8. Solution enhancements (continued)\\nFor information about...\\nSee topic...\\nThe following enhancements were made to IBM\\nOpenPages Policy Management:\\nAdded the following profile:\\n• PCM End User\\nAdded the following dashboards to the Task\\nFocused UI:\\n• OpenPages PCM Master dashboard\\n• OpenPages PCM End User dashboard\\nAdded the Policy Review workflow.\\nRegTask has the following new parents:\\nRegulator Interaction, RI Component, and RI Sub-\\nComponent.\\n“OpenPages Policy Management ” on page 3\\nChapter 8, “Profiles,” on page 89\\n“Sample workflows” on page 105\\nChanges to IBM OpenPages Regulatory\\nCompliance Management include:\\n• Ingestion of obligations from Ascent Reg Tech\\nfeeds\\n• A new Compliance Review Comment object,\\nwhich has the following parents: Regulator\\nInteraction, RI Component, RI Sub-Component,\\nRegTask, and RegChange\\n• RI Category has a new label: RI Component\\n• RI Request has a new label: RI Sub-Component\\n• RegTask has the following new parents:\\nRegulator Interaction, RI Component, and RI\\nSub-Component\\n• Regulator Interaction, RI Component, and RI\\nSub-Component each has the following new\\nparents: Mandate, Sub-Mandate, Requirement,\\nPolicy, Procedure, and Control\\n“Object type descriptions” on page 34 and\\n“Subcomponents” on page 50\\nIBM OpenPages Vendor Risk Management has\\nbeen renamed to IBM OpenPages Third Party Risk\\nManagement.\\n“OpenPages Third Party Risk Management ” on\\npage 7\\nTimesheet entry helpers are now available on\\na Reports panel on the dashboard in the Task', metadata={'author': '', 'creationDate': \"D:20240210052017Z00'00'\", 'creator': 'AH XSL Formatter V7.2 MR4 for Linux64 : 7.2.5.55968 (2022-03-22T13:56+09)', 'file_path': '/content/drive/MyDrive/ai-ml-projects/hf-llm-rag/data/op9_solutions_guide.pdf', 'format': 'PDF 1.4', 'keywords': '', 'modDate': \"D:20240210052017Z00'00'\", 'page': 25, 'producer': 'macOS Version 14.2.1 (Build 23C71) Quartz PDFContext', 'source': '/content/drive/MyDrive/ai-ml-projects/hf-llm-rag/data/op9_solutions_guide.pdf', 'start_index': 0, 'subject': '', 'title': '  IBM OpenPages with Watson   Version 9.0.0  :   Solutions Guide  ', 'total_pages': 149, 'trapped': ''})],\n",
              " 'query': 'Provide the features of Operational Risk Managmement module in OpenPages.',\n",
              " 'result': 'The Operational Risk Management module in OpenPages includes the following key features:\\n\\n1. Loss Events: This feature allows organizations to track, assess, and manage both internal and external events that could lead to operational losses. Multiple impact events and recoveries associated with operational losses can also be managed.\\n\\n2. Risk and Control Self Assessments (RCSA): This feature enables identification, measurement, and mitigation of risks, as well as testing and documentation of internal controls.\\n\\n3. Key Risk Indicators (KRIs) and Key Performance Indicators (KPIs): These features allow tracking of performance metrics that may indicate the presence or state of a risk condition or trend.\\n\\n4. Scenario Analysis: This feature is used to identify and measure specific types of risks, particularly low-frequency, high-severity events.\\n\\n5. External Loss Events: This feature allows importing loss data from various sources such as IBM FIRST Risk Case Studies, ORX, and ORIC loss databases into OpenPages Operational Risk Management for scenario analysis, benchmarking, and report generation. Data can also be exported to analytical tools or capital allocation applications.\\n\\n6. Issue Management and Remediation (IMR): This feature includes issue creation, assignment, action creation and assignment, remediation performance, issue closure, and reporting.\\n\\n7. Reporting, monitoring, and analytics: This feature enables monitoring of performance and status of the Operational Risk Management program, as well as viewing the relationships between the Model Inventory and relevant aspects of policy and compliance obligations.\\n\\nAdditionally, the OpenPages Model Risk Governance module provides a platform for organizing, documenting, and maintaining an enterprise-wide inventory of models and their usages, documenting and tracking issues associated with models, recording Model Change management governance activities, scheduling, tracking, and managing Model Reviews and Validations, conducting periodic model attestations and model risk assessments, assigning appropriate roles and responsibilities for model ownership and model risk management, and monitoring performance and status of the Model Risk Management program. The module also integrates with IBM Watson OpenScale for monitoring and measuring outcomes from AI models across their lifecycle and performing ongoing validations of AI models. Lastly, the module includes an integration with the cyber risk quantification analysis platform RiskLens for risk assessment and loss exposure metric generation through Monte Carlo'}"
            ]
          },
          "metadata": {},
          "execution_count": 27
        }
      ],
      "source": [
        "qa_w_prompt.invoke(query)"
      ]
    },
    {
      "cell_type": "code",
      "execution_count": 28,
      "metadata": {
        "id": "CC0RNUoe8XRX"
      },
      "outputs": [],
      "source": [
        "df_eval = pd.concat([df_eval, evaluate_rag('qa_w_prompt', qa_w_prompt)], ignore_index=True)"
      ]
    },
    {
      "cell_type": "code",
      "execution_count": 29,
      "metadata": {
        "id": "WuGSY1lJ8p84",
        "colab": {
          "base_uri": "https://localhost:8080/",
          "height": 1000
        },
        "outputId": "8016d06d-95d9-4e0e-ce72-06ed73c19e23"
      },
      "outputs": [
        {
          "output_type": "display_data",
          "data": {
            "text/plain": [
              "<pandas.io.formats.style.Styler at 0x7a1b1b559450>"
            ],
            "text/html": [
              "<style type=\"text/css\">\n",
              "#T_248f0_row0_col0, #T_248f0_row0_col1, #T_248f0_row0_col2, #T_248f0_row0_col3, #T_248f0_row1_col0, #T_248f0_row1_col1, #T_248f0_row1_col2, #T_248f0_row1_col3, #T_248f0_row2_col0, #T_248f0_row2_col1, #T_248f0_row2_col2, #T_248f0_row2_col3, #T_248f0_row3_col0, #T_248f0_row3_col1, #T_248f0_row3_col2, #T_248f0_row3_col3, #T_248f0_row4_col0, #T_248f0_row4_col1, #T_248f0_row4_col2, #T_248f0_row4_col3, #T_248f0_row5_col0, #T_248f0_row5_col1, #T_248f0_row5_col2, #T_248f0_row5_col3, #T_248f0_row6_col0, #T_248f0_row6_col1, #T_248f0_row6_col2, #T_248f0_row6_col3, #T_248f0_row7_col0, #T_248f0_row7_col1, #T_248f0_row7_col2, #T_248f0_row7_col3, #T_248f0_row8_col0, #T_248f0_row8_col1, #T_248f0_row8_col2, #T_248f0_row8_col3, #T_248f0_row9_col0, #T_248f0_row9_col1, #T_248f0_row9_col2, #T_248f0_row9_col3, #T_248f0_row10_col0, #T_248f0_row10_col1, #T_248f0_row10_col2, #T_248f0_row10_col3 {\n",
              "  text-align: left;\n",
              "  white-space: pre-wrap;\n",
              "}\n",
              "</style>\n",
              "<table id=\"T_248f0\" class=\"dataframe\">\n",
              "  <thead>\n",
              "    <tr>\n",
              "      <th class=\"blank level0\" >&nbsp;</th>\n",
              "      <th id=\"T_248f0_level0_col0\" class=\"col_heading level0 col0\" >Chain</th>\n",
              "      <th id=\"T_248f0_level0_col1\" class=\"col_heading level0 col1\" >Question</th>\n",
              "      <th id=\"T_248f0_level0_col2\" class=\"col_heading level0 col2\" >Response</th>\n",
              "      <th id=\"T_248f0_level0_col3\" class=\"col_heading level0 col3\" >Time</th>\n",
              "    </tr>\n",
              "  </thead>\n",
              "  <tbody>\n",
              "    <tr>\n",
              "      <th id=\"T_248f0_level0_row0\" class=\"row_heading level0 row0\" >0</th>\n",
              "      <td id=\"T_248f0_row0_col0\" class=\"data row0 col0\" >qa_w_prompt</td>\n",
              "      <td id=\"T_248f0_row0_col1\" class=\"data row0 col1\" >What is FastMap?</td>\n",
              "      <td id=\"T_248f0_row0_col2\" class=\"data row0 col2\" >FastMap is a productivity tool that helps automate the process of importing and batch processing object data into IBM OpenPages with Watson. It uses a data load template (a Microsoft Excel workbook in .xlsx format) to capture data for import, validates the data during import, and then populates the repository with the new or updated records. FastMap supports the import of Process and Risk objects but does not support the import of File and Signature objects or the system Comment field. It can also be used to import and export questionnaire template objects and their associated child objects, as well as the standard fields for questionnaire assessment instances. The tool includes options for cleaning up FastMap import templates stored on the server and controlling the formatting of exported data. Overall, FastMap helps increase efficiency and reduce manual effort required for data entry and management in OpenPages with Watson.</td>\n",
              "      <td id=\"T_248f0_row0_col3\" class=\"data row0 col3\" >0.66</td>\n",
              "    </tr>\n",
              "    <tr>\n",
              "      <th id=\"T_248f0_level0_row1\" class=\"row_heading level0 row1\" >1</th>\n",
              "      <td id=\"T_248f0_row1_col0\" class=\"data row1 col0\" >qa_w_prompt</td>\n",
              "      <td id=\"T_248f0_row1_col1\" class=\"data row1 col1\" >What is a Role Template?</td>\n",
              "      <td id=\"T_248f0_row1_col2\" class=\"data row1 col2\" >In IBM OpenPages with Watson solutions, a Role Template is a predefined set of permissions and access levels that determines the privileges granted to a user. It includes application permissions, Object ACLs (RWDA), and access to features and functions. There are several Role Templates delivered with the solutions, such as \"All Permissions\" and \"All Data - Limited Admin,\" and some solutions may include additional Role Templates with a subset of permissions. By default, these Role Templates provide administrative rights or limited admin rights for all object types available for the solution. Administrators can also create custom Role Templates to define specific application permissions and security context points.</td>\n",
              "      <td id=\"T_248f0_row1_col3\" class=\"data row1 col3\" >0.66</td>\n",
              "    </tr>\n",
              "    <tr>\n",
              "      <th id=\"T_248f0_level0_row2\" class=\"row_heading level0 row2\" >2</th>\n",
              "      <td id=\"T_248f0_row2_col0\" class=\"data row2 col0\" >qa_w_prompt</td>\n",
              "      <td id=\"T_248f0_row2_col1\" class=\"data row2 col1\" >What is the purpose of Object Reset?</td>\n",
              "      <td id=\"T_248f0_row2_col2\" class=\"data row2 col2\" >Object Reset is a feature in IBM OpenPages with Watson that allows administrators to automate the process of deleting, moving, renaming, copying, disassociating, or reassigning primary parents of objects based on specific criteria defined in a ruleset. This feature helps to streamline data management processes, reduce manual effort, and ensure consistency and accuracy of data across the application. It can also be used to prepare data for reporting purposes or to clean up obsolete or redundant data.</td>\n",
              "      <td id=\"T_248f0_row2_col3\" class=\"data row2 col3\" >4.58</td>\n",
              "    </tr>\n",
              "    <tr>\n",
              "      <th id=\"T_248f0_level0_row3\" class=\"row_heading level0 row3\" >3</th>\n",
              "      <td id=\"T_248f0_row3_col0\" class=\"data row3 col0\" >qa_w_prompt</td>\n",
              "      <td id=\"T_248f0_row3_col1\" class=\"data row3 col1\" >What is the purpose of Reporting Periods?</td>\n",
              "      <td id=\"T_248f0_row3_col2\" class=\"data row3 col2\" >Reporting periods in IBM OpenPages with Watson are \"snapshots\" of the current state of the repository, typically created at the end of a quarter or year during documentation phases. They allow users to view and report on data from past periods without being affected by changes made to the repository. This feature helps organizations maintain historical records and facilitates auditing and compliance activities. Additionally, object resets, which are rule-based operations contained in a ruleset, can be used to automatically modify objects within the repository during reporting periods. Overall, reporting periods provide a way to manage and organize data over time in IBM OpenPages with Watson.</td>\n",
              "      <td id=\"T_248f0_row3_col3\" class=\"data row3 col3\" >0.69</td>\n",
              "    </tr>\n",
              "    <tr>\n",
              "      <th id=\"T_248f0_level0_row4\" class=\"row_heading level0 row4\" >4</th>\n",
              "      <td id=\"T_248f0_row4_col0\" class=\"data row4 col0\" >qa_w_prompt</td>\n",
              "      <td id=\"T_248f0_row4_col1\" class=\"data row4 col1\" >List the system variables used in Expressions.</td>\n",
              "      <td id=\"T_248f0_row4_col2\" class=\"data row4 col2\" >1. $APPLICATION_URL$ - A URL for OpenPages.\n",
              "2. $COGNOS_URL$ - A URL for IBM Cognos Analytics.\n",
              "3. $ApplicationText/application text key$ - Application text content.\n",
              "4. $TASK_VIEW_URL$ - A URL to an object task view.\n",
              "5. $System Fields:Task View URL$ - Deprecated. Use [$TASK_VIEW_URL$].\n",
              "6. $Setting/OpenPages/...$ - A registry setting value.\n",
              "7. $END_USER$ - The user name of the signed on user.\n",
              "8. $TODAY$ - Today's date.\n",
              "9. $DaysFromNow/field group:field name$ - A day count from today to a given date.</td>\n",
              "      <td id=\"T_248f0_row4_col3\" class=\"data row4 col3\" >0.69</td>\n",
              "    </tr>\n",
              "    <tr>\n",
              "      <th id=\"T_248f0_level0_row5\" class=\"row_heading level0 row5\" >5</th>\n",
              "      <td id=\"T_248f0_row5_col0\" class=\"data row5 col0\" >qa_w_prompt</td>\n",
              "      <td id=\"T_248f0_row5_col1\" class=\"data row5 col1\" >Provide the steps to configure Watson Assistant in OpenPages?</td>\n",
              "      <td id=\"T_248f0_row5_col2\" class=\"data row5 col2\" >1. In OpenPages, go to Administration > Integrations > Watson Assistant.\n",
              "2. Click on \"Add Watson Assistant\" and enter your Watson Assistant credentials.\n",
              "3. Select the desired Watson Assistant service and click \"Save\".\n",
              "4. Configure the integration settings, such as endpoint URL, authentication type, and API key.\n",
              "5. Test the connection by clicking \"Test Connection\".\n",
              "6. Save the configuration and start using Watson Assistant in your OpenPages applications.\n",
              "\n",
              "Note: Refer to the IBM OpenPages with Watson Version 9.0.0: Administrator's Guide (page 960) and IBM OpenPages with Watson Version 9.0.0: User Guide (page 110) for detailed instructions.</td>\n",
              "      <td id=\"T_248f0_row5_col3\" class=\"data row5 col3\" >0.79</td>\n",
              "    </tr>\n",
              "    <tr>\n",
              "      <th id=\"T_248f0_level0_row6\" class=\"row_heading level0 row6\" >6</th>\n",
              "      <td id=\"T_248f0_row6_col0\" class=\"data row6 col0\" >qa_w_prompt</td>\n",
              "      <td id=\"T_248f0_row6_col1\" class=\"data row6 col1\" >List the user administration permissions that can be delegated.</td>\n",
              "      <td id=\"T_248f0_row6_col2\" class=\"data row6 col2\" >There are six security management permissions that can be delegated to a security domain or user group administrator:\n",
              "\n",
              "1. Manage - allows the delegated administrator to create, modify, and associate users and groups.\n",
              "2. Lock - allows the delegated administrator to lock a user account, preventing logon to the IBM OpenPages with Watson application from that account.\n",
              "3. Unlock - allows the delegated administrator to unlock a previously locked user account.\n",
              "4. Reset Password - allows the delegated administrator to reset passwords for users.\n",
              "5. Assign Role - allows the delegated administrator to assign one or more roles to users and groups and to revoke a role from a user or group. Applies to security domains only.\n",
              "6. Browse - allows the delegated administrator to view users and groups within that group. This permission is selected by default.\n",
              "\n",
              "Note: These permissions can be granted to a security domain or user group administrator to help distribute administrative tasks among multiple administrators. However, it is recommended to limit the number of administrators with these permissions to minimize potential errors or misuse. Additionally, it is important to ensure that the appropriate permissions are granted based on the specific responsibilities of each administrator.</td>\n",
              "      <td id=\"T_248f0_row6_col3\" class=\"data row6 col3\" >0.74</td>\n",
              "    </tr>\n",
              "    <tr>\n",
              "      <th id=\"T_248f0_level0_row7\" class=\"row_heading level0 row7\" >7</th>\n",
              "      <td id=\"T_248f0_row7_col0\" class=\"data row7 col0\" >qa_w_prompt</td>\n",
              "      <td id=\"T_248f0_row7_col1\" class=\"data row7 col1\" >What is the difference between PRE and POST position in Triggers?</td>\n",
              "      <td id=\"T_248f0_row7_col2\" class=\"data row7 col2\" >In Triggers, the position can be either PRE or POST. The PRE position indicates that the event occurs prior to the operation being performed by the system, while the POST position indicates that the event occurs after the operation has been performed but before the transaction is committed. Essentially, PRE triggers allow for modifications to be made to the data before it is persisted, while POST triggers allow for further processing of business logic after the operation has completed. Both positions are required for certain operations, such as deletes, associations, and disassociations for PRE, and creates and updates for POST. For more information, refer to the OpenPages 8.3 trigger development guide.</td>\n",
              "      <td id=\"T_248f0_row7_col3\" class=\"data row7 col3\" >6.15</td>\n",
              "    </tr>\n",
              "    <tr>\n",
              "      <th id=\"T_248f0_level0_row8\" class=\"row_heading level0 row8\" >8</th>\n",
              "      <td id=\"T_248f0_row8_col0\" class=\"data row8 col0\" >qa_w_prompt</td>\n",
              "      <td id=\"T_248f0_row8_col1\" class=\"data row8 col1\" >What are the features of Operational Risk Management in OpenPages?</td>\n",
              "      <td id=\"T_248f0_row8_col2\" class=\"data row8 col2\" >OpenPages Operational Risk Management includes the following key features:\n",
              "\n",
              "1. Loss Events: This activity involves tracking, assessing, and managing both internal and external events that could result in operational losses. Multiple impact events and recoveries associated with operational losses can also be managed.\n",
              "\n",
              "2. Risk and Control Self Assessments (RCSA): This activity involves identifying, measuring, and mitigating risks, testing and documenting internal controls.\n",
              "\n",
              "3. Key Risk Indicators (KRIs) and Key Performance Indicators (KPIs): These metrics can track performance metrics to potentially show the presence or state of a risk condition or trend.\n",
              "\n",
              "4. Scenario Analysis: This assessment technique is used to identify and measure specific kinds of risks, particularly low-frequency, high-severity events.\n",
              "\n",
              "5. External Loss Events: This feature provides the ability to import loss data from various sources like IBM FIRST Risk Case Studies, ORX, and ORIC loss databases into OpenPages Operational Risk Management for scenario analysis, benchmarking, and reports generation. Data can also be exported to analytic tools or capital allocation applications.\n",
              "\n",
              "6. Issue Management and Remediation (IMR): This activity includes issue creation and assignment, action creation and assignment, remediation performance, issue closedown, and reporting.\n",
              "\n",
              "7. Reporting, Monitoring, and Analytics: OpenPages Operational Risk Management offers reporting, monitoring, and analytics capabilities.\n",
              "\n",
              "Note: For more details on how to configure the RiskLens connector, refer to the IBM OpenPages with Watson Administrator's Guide.</td>\n",
              "      <td id=\"T_248f0_row8_col3\" class=\"data row8 col3\" >1.15</td>\n",
              "    </tr>\n",
              "    <tr>\n",
              "      <th id=\"T_248f0_level0_row9\" class=\"row_heading level0 row9\" >9</th>\n",
              "      <td id=\"T_248f0_row9_col0\" class=\"data row9 col0\" >qa_w_prompt</td>\n",
              "      <td id=\"T_248f0_row9_col1\" class=\"data row9 col1\" >What are the different administrator permissions that can be delegated to a user group administrator?</td>\n",
              "      <td id=\"T_248f0_row9_col2\" class=\"data row9 col2\" >There are six security management permissions that can be delegated to a user group administrator: Manage, Lock, Unlock, Reset Password, Assign Role, and Browse. These permissions allow the delegated administrator to perform various user-provisioning functions, such as creating, modifying, and associating users and groups, locking and unlocking user accounts, resetting passwords, assigning roles, and viewing users and groups within their respective groups. The Browse permission is selected by default. The specific permissions required for each user-provisioning function are outlined in Table 38 provided in the context.</td>\n",
              "      <td id=\"T_248f0_row9_col3\" class=\"data row9 col3\" >1.11</td>\n",
              "    </tr>\n",
              "    <tr>\n",
              "      <th id=\"T_248f0_level0_row10\" class=\"row_heading level0 row10\" >10</th>\n",
              "      <td id=\"T_248f0_row10_col0\" class=\"data row10 col0\" >qa_w_prompt</td>\n",
              "      <td id=\"T_248f0_row10_col1\" class=\"data row10 col1\" >What are the different access controls available for non-participants for a standard stage within a workflow?</td>\n",
              "      <td id=\"T_248f0_row10_col2\" class=\"data row10 col2\" >For a standard stage within a workflow, the different access controls available for non-participants are:\n",
              "\n",
              "1. Strict: Non-participants cannot view or edit objects at this stage.\n",
              "2. Read: Non-participants can view objects at this stage, but cannot edit them.\n",
              "3. Open: Non-participant's access depends on the standard access controls defined for their role template and security rules.\n",
              "\n",
              "Note: By default, access for a non-participant is based on the access controls defined by their role template and security rules. However, you can override these standard access controls for the workflow stage by selecting \"Override\" under \"Access Control\" in the workflow properties. This allows you to define custom access controls for non-participants at this stage.</td>\n",
              "      <td id=\"T_248f0_row10_col3\" class=\"data row10 col3\" >1.24</td>\n",
              "    </tr>\n",
              "  </tbody>\n",
              "</table>\n"
            ]
          },
          "metadata": {}
        }
      ],
      "source": [
        "print_df(df_eval[['Chain',\t'Question',\t'Response',\t'Time']])"
      ]
    },
    {
      "cell_type": "code",
      "source": [
        "query"
      ],
      "metadata": {
        "colab": {
          "base_uri": "https://localhost:8080/",
          "height": 35
        },
        "id": "XMcFTGhjOCzJ",
        "outputId": "44d7952a-007c-46f9-da32-7de72bc8c559"
      },
      "execution_count": 30,
      "outputs": [
        {
          "output_type": "execute_result",
          "data": {
            "text/plain": [
              "'Provide the features of Operational Risk Managmement module in OpenPages.'"
            ],
            "application/vnd.google.colaboratory.intrinsic+json": {
              "type": "string"
            }
          },
          "metadata": {},
          "execution_count": 30
        }
      ]
    },
    {
      "cell_type": "code",
      "source": [
        "from operator import itemgetter\n",
        "test_qa_chain = (\n",
        "{\n",
        "\"context\": itemgetter(\"query\") | base_retriever,\n",
        "\"query\": itemgetter(\"query\")\n",
        "}\n",
        "| RunnableParallel({\n",
        "\"response\": chat_prompt_template | llm,\n",
        "\"context\": itemgetter(\"context\"),\n",
        "})\n",
        ")"
      ],
      "metadata": {
        "id": "qTf2Uf7ON_OS"
      },
      "execution_count": 43,
      "outputs": []
    },
    {
      "cell_type": "code",
      "source": [
        "test_qa_chain.invoke(que)"
      ],
      "metadata": {
        "colab": {
          "base_uri": "https://localhost:8080/",
          "height": 293
        },
        "id": "skxXAnOVO3xb",
        "outputId": "59fa2931-9149-4a48-c3fe-0279cb7bc192"
      },
      "execution_count": 44,
      "outputs": [
        {
          "output_type": "error",
          "ename": "TypeError",
          "evalue": "string indices must be integers",
          "traceback": [
            "\u001b[0;31m---------------------------------------------------------------------------\u001b[0m",
            "\u001b[0;31mTypeError\u001b[0m                                 Traceback (most recent call last)",
            "\u001b[0;32m<ipython-input-44-3b359212f805>\u001b[0m in \u001b[0;36m<cell line: 1>\u001b[0;34m()\u001b[0m\n\u001b[0;32m----> 1\u001b[0;31m \u001b[0mtest_qa_chain\u001b[0m\u001b[0;34m.\u001b[0m\u001b[0minvoke\u001b[0m\u001b[0;34m(\u001b[0m\u001b[0mquery\u001b[0m\u001b[0;34m)\u001b[0m\u001b[0;34m\u001b[0m\u001b[0;34m\u001b[0m\u001b[0m\n\u001b[0m",
            "\u001b[0;32m/usr/local/lib/python3.10/dist-packages/langchain_core/runnables/base.py\u001b[0m in \u001b[0;36minvoke\u001b[0;34m(self, input, config)\u001b[0m\n\u001b[1;32m   2073\u001b[0m         \u001b[0;32mtry\u001b[0m\u001b[0;34m:\u001b[0m\u001b[0;34m\u001b[0m\u001b[0;34m\u001b[0m\u001b[0m\n\u001b[1;32m   2074\u001b[0m             \u001b[0;32mfor\u001b[0m \u001b[0mi\u001b[0m\u001b[0;34m,\u001b[0m \u001b[0mstep\u001b[0m \u001b[0;32min\u001b[0m \u001b[0menumerate\u001b[0m\u001b[0;34m(\u001b[0m\u001b[0mself\u001b[0m\u001b[0;34m.\u001b[0m\u001b[0msteps\u001b[0m\u001b[0;34m)\u001b[0m\u001b[0;34m:\u001b[0m\u001b[0;34m\u001b[0m\u001b[0;34m\u001b[0m\u001b[0m\n\u001b[0;32m-> 2075\u001b[0;31m                 input = step.invoke(\n\u001b[0m\u001b[1;32m   2076\u001b[0m                     \u001b[0minput\u001b[0m\u001b[0;34m,\u001b[0m\u001b[0;34m\u001b[0m\u001b[0;34m\u001b[0m\u001b[0m\n\u001b[1;32m   2077\u001b[0m                     \u001b[0;31m# mark each step as a child run\u001b[0m\u001b[0;34m\u001b[0m\u001b[0;34m\u001b[0m\u001b[0m\n",
            "\u001b[0;32m/usr/local/lib/python3.10/dist-packages/langchain_core/runnables/base.py\u001b[0m in \u001b[0;36minvoke\u001b[0;34m(self, input, config)\u001b[0m\n\u001b[1;32m   2710\u001b[0m                     \u001b[0;32mfor\u001b[0m \u001b[0mkey\u001b[0m\u001b[0;34m,\u001b[0m \u001b[0mstep\u001b[0m \u001b[0;32min\u001b[0m \u001b[0msteps\u001b[0m\u001b[0;34m.\u001b[0m\u001b[0mitems\u001b[0m\u001b[0;34m(\u001b[0m\u001b[0;34m)\u001b[0m\u001b[0;34m\u001b[0m\u001b[0;34m\u001b[0m\u001b[0m\n\u001b[1;32m   2711\u001b[0m                 ]\n\u001b[0;32m-> 2712\u001b[0;31m                 \u001b[0moutput\u001b[0m \u001b[0;34m=\u001b[0m \u001b[0;34m{\u001b[0m\u001b[0mkey\u001b[0m\u001b[0;34m:\u001b[0m \u001b[0mfuture\u001b[0m\u001b[0;34m.\u001b[0m\u001b[0mresult\u001b[0m\u001b[0;34m(\u001b[0m\u001b[0;34m)\u001b[0m \u001b[0;32mfor\u001b[0m \u001b[0mkey\u001b[0m\u001b[0;34m,\u001b[0m \u001b[0mfuture\u001b[0m \u001b[0;32min\u001b[0m \u001b[0mzip\u001b[0m\u001b[0;34m(\u001b[0m\u001b[0msteps\u001b[0m\u001b[0;34m,\u001b[0m \u001b[0mfutures\u001b[0m\u001b[0;34m)\u001b[0m\u001b[0;34m}\u001b[0m\u001b[0;34m\u001b[0m\u001b[0;34m\u001b[0m\u001b[0m\n\u001b[0m\u001b[1;32m   2713\u001b[0m         \u001b[0;31m# finish the root run\u001b[0m\u001b[0;34m\u001b[0m\u001b[0;34m\u001b[0m\u001b[0m\n\u001b[1;32m   2714\u001b[0m         \u001b[0;32mexcept\u001b[0m \u001b[0mBaseException\u001b[0m \u001b[0;32mas\u001b[0m \u001b[0me\u001b[0m\u001b[0;34m:\u001b[0m\u001b[0;34m\u001b[0m\u001b[0;34m\u001b[0m\u001b[0m\n",
            "\u001b[0;32m/usr/local/lib/python3.10/dist-packages/langchain_core/runnables/base.py\u001b[0m in \u001b[0;36m<dictcomp>\u001b[0;34m(.0)\u001b[0m\n\u001b[1;32m   2710\u001b[0m                     \u001b[0;32mfor\u001b[0m \u001b[0mkey\u001b[0m\u001b[0;34m,\u001b[0m \u001b[0mstep\u001b[0m \u001b[0;32min\u001b[0m \u001b[0msteps\u001b[0m\u001b[0;34m.\u001b[0m\u001b[0mitems\u001b[0m\u001b[0;34m(\u001b[0m\u001b[0;34m)\u001b[0m\u001b[0;34m\u001b[0m\u001b[0;34m\u001b[0m\u001b[0m\n\u001b[1;32m   2711\u001b[0m                 ]\n\u001b[0;32m-> 2712\u001b[0;31m                 \u001b[0moutput\u001b[0m \u001b[0;34m=\u001b[0m \u001b[0;34m{\u001b[0m\u001b[0mkey\u001b[0m\u001b[0;34m:\u001b[0m \u001b[0mfuture\u001b[0m\u001b[0;34m.\u001b[0m\u001b[0mresult\u001b[0m\u001b[0;34m(\u001b[0m\u001b[0;34m)\u001b[0m \u001b[0;32mfor\u001b[0m \u001b[0mkey\u001b[0m\u001b[0;34m,\u001b[0m \u001b[0mfuture\u001b[0m \u001b[0;32min\u001b[0m \u001b[0mzip\u001b[0m\u001b[0;34m(\u001b[0m\u001b[0msteps\u001b[0m\u001b[0;34m,\u001b[0m \u001b[0mfutures\u001b[0m\u001b[0;34m)\u001b[0m\u001b[0;34m}\u001b[0m\u001b[0;34m\u001b[0m\u001b[0;34m\u001b[0m\u001b[0m\n\u001b[0m\u001b[1;32m   2713\u001b[0m         \u001b[0;31m# finish the root run\u001b[0m\u001b[0;34m\u001b[0m\u001b[0;34m\u001b[0m\u001b[0m\n\u001b[1;32m   2714\u001b[0m         \u001b[0;32mexcept\u001b[0m \u001b[0mBaseException\u001b[0m \u001b[0;32mas\u001b[0m \u001b[0me\u001b[0m\u001b[0;34m:\u001b[0m\u001b[0;34m\u001b[0m\u001b[0;34m\u001b[0m\u001b[0m\n",
            "\u001b[0;32m/usr/lib/python3.10/concurrent/futures/_base.py\u001b[0m in \u001b[0;36mresult\u001b[0;34m(self, timeout)\u001b[0m\n\u001b[1;32m    449\u001b[0m                     \u001b[0;32mraise\u001b[0m \u001b[0mCancelledError\u001b[0m\u001b[0;34m(\u001b[0m\u001b[0;34m)\u001b[0m\u001b[0;34m\u001b[0m\u001b[0;34m\u001b[0m\u001b[0m\n\u001b[1;32m    450\u001b[0m                 \u001b[0;32melif\u001b[0m \u001b[0mself\u001b[0m\u001b[0;34m.\u001b[0m\u001b[0m_state\u001b[0m \u001b[0;34m==\u001b[0m \u001b[0mFINISHED\u001b[0m\u001b[0;34m:\u001b[0m\u001b[0;34m\u001b[0m\u001b[0;34m\u001b[0m\u001b[0m\n\u001b[0;32m--> 451\u001b[0;31m                     \u001b[0;32mreturn\u001b[0m \u001b[0mself\u001b[0m\u001b[0;34m.\u001b[0m\u001b[0m__get_result\u001b[0m\u001b[0;34m(\u001b[0m\u001b[0;34m)\u001b[0m\u001b[0;34m\u001b[0m\u001b[0;34m\u001b[0m\u001b[0m\n\u001b[0m\u001b[1;32m    452\u001b[0m \u001b[0;34m\u001b[0m\u001b[0m\n\u001b[1;32m    453\u001b[0m                 \u001b[0mself\u001b[0m\u001b[0;34m.\u001b[0m\u001b[0m_condition\u001b[0m\u001b[0;34m.\u001b[0m\u001b[0mwait\u001b[0m\u001b[0;34m(\u001b[0m\u001b[0mtimeout\u001b[0m\u001b[0;34m)\u001b[0m\u001b[0;34m\u001b[0m\u001b[0;34m\u001b[0m\u001b[0m\n",
            "\u001b[0;32m/usr/lib/python3.10/concurrent/futures/_base.py\u001b[0m in \u001b[0;36m__get_result\u001b[0;34m(self)\u001b[0m\n\u001b[1;32m    401\u001b[0m         \u001b[0;32mif\u001b[0m \u001b[0mself\u001b[0m\u001b[0;34m.\u001b[0m\u001b[0m_exception\u001b[0m\u001b[0;34m:\u001b[0m\u001b[0;34m\u001b[0m\u001b[0;34m\u001b[0m\u001b[0m\n\u001b[1;32m    402\u001b[0m             \u001b[0;32mtry\u001b[0m\u001b[0;34m:\u001b[0m\u001b[0;34m\u001b[0m\u001b[0;34m\u001b[0m\u001b[0m\n\u001b[0;32m--> 403\u001b[0;31m                 \u001b[0;32mraise\u001b[0m \u001b[0mself\u001b[0m\u001b[0;34m.\u001b[0m\u001b[0m_exception\u001b[0m\u001b[0;34m\u001b[0m\u001b[0;34m\u001b[0m\u001b[0m\n\u001b[0m\u001b[1;32m    404\u001b[0m             \u001b[0;32mfinally\u001b[0m\u001b[0;34m:\u001b[0m\u001b[0;34m\u001b[0m\u001b[0;34m\u001b[0m\u001b[0m\n\u001b[1;32m    405\u001b[0m                 \u001b[0;31m# Break a reference cycle with the exception in self._exception\u001b[0m\u001b[0;34m\u001b[0m\u001b[0;34m\u001b[0m\u001b[0m\n",
            "\u001b[0;32m/usr/lib/python3.10/concurrent/futures/thread.py\u001b[0m in \u001b[0;36mrun\u001b[0;34m(self)\u001b[0m\n\u001b[1;32m     56\u001b[0m \u001b[0;34m\u001b[0m\u001b[0m\n\u001b[1;32m     57\u001b[0m         \u001b[0;32mtry\u001b[0m\u001b[0;34m:\u001b[0m\u001b[0;34m\u001b[0m\u001b[0;34m\u001b[0m\u001b[0m\n\u001b[0;32m---> 58\u001b[0;31m             \u001b[0mresult\u001b[0m \u001b[0;34m=\u001b[0m \u001b[0mself\u001b[0m\u001b[0;34m.\u001b[0m\u001b[0mfn\u001b[0m\u001b[0;34m(\u001b[0m\u001b[0;34m*\u001b[0m\u001b[0mself\u001b[0m\u001b[0;34m.\u001b[0m\u001b[0margs\u001b[0m\u001b[0;34m,\u001b[0m \u001b[0;34m**\u001b[0m\u001b[0mself\u001b[0m\u001b[0;34m.\u001b[0m\u001b[0mkwargs\u001b[0m\u001b[0;34m)\u001b[0m\u001b[0;34m\u001b[0m\u001b[0;34m\u001b[0m\u001b[0m\n\u001b[0m\u001b[1;32m     59\u001b[0m         \u001b[0;32mexcept\u001b[0m \u001b[0mBaseException\u001b[0m \u001b[0;32mas\u001b[0m \u001b[0mexc\u001b[0m\u001b[0;34m:\u001b[0m\u001b[0;34m\u001b[0m\u001b[0;34m\u001b[0m\u001b[0m\n\u001b[1;32m     60\u001b[0m             \u001b[0mself\u001b[0m\u001b[0;34m.\u001b[0m\u001b[0mfuture\u001b[0m\u001b[0;34m.\u001b[0m\u001b[0mset_exception\u001b[0m\u001b[0;34m(\u001b[0m\u001b[0mexc\u001b[0m\u001b[0;34m)\u001b[0m\u001b[0;34m\u001b[0m\u001b[0;34m\u001b[0m\u001b[0m\n",
            "\u001b[0;32m/usr/local/lib/python3.10/dist-packages/langchain_core/runnables/base.py\u001b[0m in \u001b[0;36minvoke\u001b[0;34m(self, input, config)\u001b[0m\n\u001b[1;32m   2073\u001b[0m         \u001b[0;32mtry\u001b[0m\u001b[0;34m:\u001b[0m\u001b[0;34m\u001b[0m\u001b[0;34m\u001b[0m\u001b[0m\n\u001b[1;32m   2074\u001b[0m             \u001b[0;32mfor\u001b[0m \u001b[0mi\u001b[0m\u001b[0;34m,\u001b[0m \u001b[0mstep\u001b[0m \u001b[0;32min\u001b[0m \u001b[0menumerate\u001b[0m\u001b[0;34m(\u001b[0m\u001b[0mself\u001b[0m\u001b[0;34m.\u001b[0m\u001b[0msteps\u001b[0m\u001b[0;34m)\u001b[0m\u001b[0;34m:\u001b[0m\u001b[0;34m\u001b[0m\u001b[0;34m\u001b[0m\u001b[0m\n\u001b[0;32m-> 2075\u001b[0;31m                 input = step.invoke(\n\u001b[0m\u001b[1;32m   2076\u001b[0m                     \u001b[0minput\u001b[0m\u001b[0;34m,\u001b[0m\u001b[0;34m\u001b[0m\u001b[0;34m\u001b[0m\u001b[0m\n\u001b[1;32m   2077\u001b[0m                     \u001b[0;31m# mark each step as a child run\u001b[0m\u001b[0;34m\u001b[0m\u001b[0;34m\u001b[0m\u001b[0m\n",
            "\u001b[0;32m/usr/local/lib/python3.10/dist-packages/langchain_core/runnables/base.py\u001b[0m in \u001b[0;36minvoke\u001b[0;34m(self, input, config, **kwargs)\u001b[0m\n\u001b[1;32m   3521\u001b[0m         \u001b[0;34m\"\"\"Invoke this runnable synchronously.\"\"\"\u001b[0m\u001b[0;34m\u001b[0m\u001b[0;34m\u001b[0m\u001b[0m\n\u001b[1;32m   3522\u001b[0m         \u001b[0;32mif\u001b[0m \u001b[0mhasattr\u001b[0m\u001b[0;34m(\u001b[0m\u001b[0mself\u001b[0m\u001b[0;34m,\u001b[0m \u001b[0;34m\"func\"\u001b[0m\u001b[0;34m)\u001b[0m\u001b[0;34m:\u001b[0m\u001b[0;34m\u001b[0m\u001b[0;34m\u001b[0m\u001b[0m\n\u001b[0;32m-> 3523\u001b[0;31m             return self._call_with_config(\n\u001b[0m\u001b[1;32m   3524\u001b[0m                 \u001b[0mself\u001b[0m\u001b[0;34m.\u001b[0m\u001b[0m_invoke\u001b[0m\u001b[0;34m,\u001b[0m\u001b[0;34m\u001b[0m\u001b[0;34m\u001b[0m\u001b[0m\n\u001b[1;32m   3525\u001b[0m                 \u001b[0minput\u001b[0m\u001b[0;34m,\u001b[0m\u001b[0;34m\u001b[0m\u001b[0;34m\u001b[0m\u001b[0m\n",
            "\u001b[0;32m/usr/local/lib/python3.10/dist-packages/langchain_core/runnables/base.py\u001b[0m in \u001b[0;36m_call_with_config\u001b[0;34m(self, func, input, config, run_type, **kwargs)\u001b[0m\n\u001b[1;32m   1260\u001b[0m             output = cast(\n\u001b[1;32m   1261\u001b[0m                 \u001b[0mOutput\u001b[0m\u001b[0;34m,\u001b[0m\u001b[0;34m\u001b[0m\u001b[0;34m\u001b[0m\u001b[0m\n\u001b[0;32m-> 1262\u001b[0;31m                 context.run(\n\u001b[0m\u001b[1;32m   1263\u001b[0m                     \u001b[0mcall_func_with_variable_args\u001b[0m\u001b[0;34m,\u001b[0m\u001b[0;34m\u001b[0m\u001b[0;34m\u001b[0m\u001b[0m\n\u001b[1;32m   1264\u001b[0m                     \u001b[0mfunc\u001b[0m\u001b[0;34m,\u001b[0m  \u001b[0;31m# type: ignore[arg-type]\u001b[0m\u001b[0;34m\u001b[0m\u001b[0;34m\u001b[0m\u001b[0m\n",
            "\u001b[0;32m/usr/local/lib/python3.10/dist-packages/langchain_core/runnables/config.py\u001b[0m in \u001b[0;36mcall_func_with_variable_args\u001b[0;34m(func, input, config, run_manager, **kwargs)\u001b[0m\n\u001b[1;32m    324\u001b[0m     \u001b[0;32mif\u001b[0m \u001b[0mrun_manager\u001b[0m \u001b[0;32mis\u001b[0m \u001b[0;32mnot\u001b[0m \u001b[0;32mNone\u001b[0m \u001b[0;32mand\u001b[0m \u001b[0maccepts_run_manager\u001b[0m\u001b[0;34m(\u001b[0m\u001b[0mfunc\u001b[0m\u001b[0;34m)\u001b[0m\u001b[0;34m:\u001b[0m\u001b[0;34m\u001b[0m\u001b[0;34m\u001b[0m\u001b[0m\n\u001b[1;32m    325\u001b[0m         \u001b[0mkwargs\u001b[0m\u001b[0;34m[\u001b[0m\u001b[0;34m\"run_manager\"\u001b[0m\u001b[0;34m]\u001b[0m \u001b[0;34m=\u001b[0m \u001b[0mrun_manager\u001b[0m\u001b[0;34m\u001b[0m\u001b[0;34m\u001b[0m\u001b[0m\n\u001b[0;32m--> 326\u001b[0;31m     \u001b[0;32mreturn\u001b[0m \u001b[0mfunc\u001b[0m\u001b[0;34m(\u001b[0m\u001b[0minput\u001b[0m\u001b[0;34m,\u001b[0m \u001b[0;34m**\u001b[0m\u001b[0mkwargs\u001b[0m\u001b[0;34m)\u001b[0m  \u001b[0;31m# type: ignore[call-arg]\u001b[0m\u001b[0;34m\u001b[0m\u001b[0;34m\u001b[0m\u001b[0m\n\u001b[0m\u001b[1;32m    327\u001b[0m \u001b[0;34m\u001b[0m\u001b[0m\n\u001b[1;32m    328\u001b[0m \u001b[0;34m\u001b[0m\u001b[0m\n",
            "\u001b[0;32m/usr/local/lib/python3.10/dist-packages/langchain_core/runnables/base.py\u001b[0m in \u001b[0;36m_invoke\u001b[0;34m(self, input, run_manager, config, **kwargs)\u001b[0m\n\u001b[1;32m   3395\u001b[0m                         \u001b[0moutput\u001b[0m \u001b[0;34m=\u001b[0m \u001b[0mchunk\u001b[0m\u001b[0;34m\u001b[0m\u001b[0;34m\u001b[0m\u001b[0m\n\u001b[1;32m   3396\u001b[0m         \u001b[0;32melse\u001b[0m\u001b[0;34m:\u001b[0m\u001b[0;34m\u001b[0m\u001b[0;34m\u001b[0m\u001b[0m\n\u001b[0;32m-> 3397\u001b[0;31m             output = call_func_with_variable_args(\n\u001b[0m\u001b[1;32m   3398\u001b[0m                 \u001b[0mself\u001b[0m\u001b[0;34m.\u001b[0m\u001b[0mfunc\u001b[0m\u001b[0;34m,\u001b[0m \u001b[0minput\u001b[0m\u001b[0;34m,\u001b[0m \u001b[0mconfig\u001b[0m\u001b[0;34m,\u001b[0m \u001b[0mrun_manager\u001b[0m\u001b[0;34m,\u001b[0m \u001b[0;34m**\u001b[0m\u001b[0mkwargs\u001b[0m\u001b[0;34m\u001b[0m\u001b[0;34m\u001b[0m\u001b[0m\n\u001b[1;32m   3399\u001b[0m             )\n",
            "\u001b[0;32m/usr/local/lib/python3.10/dist-packages/langchain_core/runnables/config.py\u001b[0m in \u001b[0;36mcall_func_with_variable_args\u001b[0;34m(func, input, config, run_manager, **kwargs)\u001b[0m\n\u001b[1;32m    324\u001b[0m     \u001b[0;32mif\u001b[0m \u001b[0mrun_manager\u001b[0m \u001b[0;32mis\u001b[0m \u001b[0;32mnot\u001b[0m \u001b[0;32mNone\u001b[0m \u001b[0;32mand\u001b[0m \u001b[0maccepts_run_manager\u001b[0m\u001b[0;34m(\u001b[0m\u001b[0mfunc\u001b[0m\u001b[0;34m)\u001b[0m\u001b[0;34m:\u001b[0m\u001b[0;34m\u001b[0m\u001b[0;34m\u001b[0m\u001b[0m\n\u001b[1;32m    325\u001b[0m         \u001b[0mkwargs\u001b[0m\u001b[0;34m[\u001b[0m\u001b[0;34m\"run_manager\"\u001b[0m\u001b[0;34m]\u001b[0m \u001b[0;34m=\u001b[0m \u001b[0mrun_manager\u001b[0m\u001b[0;34m\u001b[0m\u001b[0;34m\u001b[0m\u001b[0m\n\u001b[0;32m--> 326\u001b[0;31m     \u001b[0;32mreturn\u001b[0m \u001b[0mfunc\u001b[0m\u001b[0;34m(\u001b[0m\u001b[0minput\u001b[0m\u001b[0;34m,\u001b[0m \u001b[0;34m**\u001b[0m\u001b[0mkwargs\u001b[0m\u001b[0;34m)\u001b[0m  \u001b[0;31m# type: ignore[call-arg]\u001b[0m\u001b[0;34m\u001b[0m\u001b[0;34m\u001b[0m\u001b[0m\n\u001b[0m\u001b[1;32m    327\u001b[0m \u001b[0;34m\u001b[0m\u001b[0m\n\u001b[1;32m    328\u001b[0m \u001b[0;34m\u001b[0m\u001b[0m\n",
            "\u001b[0;31mTypeError\u001b[0m: string indices must be integers"
          ]
        }
      ]
    },
    {
      "cell_type": "code",
      "source": [],
      "metadata": {
        "id": "EEFq51IzO6f0"
      },
      "execution_count": null,
      "outputs": []
    }
  ],
  "metadata": {
    "colab": {
      "provenance": []
    },
    "kernelspec": {
      "display_name": "Python 3",
      "name": "python3"
    },
    "language_info": {
      "name": "python"
    }
  },
  "nbformat": 4,
  "nbformat_minor": 0
}